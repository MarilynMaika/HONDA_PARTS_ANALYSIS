{
 "cells": [
  {
   "cell_type": "code",
   "execution_count": 172,
   "id": "12c10553",
   "metadata": {},
   "outputs": [],
   "source": [
    "import pandas as pd\n",
    "import matplotlib.pyplot as plt\n",
    "import numpy as np\n",
    "import seaborn as sns\n"
   ]
  },
  {
   "cell_type": "markdown",
   "id": "4be02fc3",
   "metadata": {},
   "source": [
    "- Importing the data"
   ]
  },
  {
   "cell_type": "code",
   "execution_count": 173,
   "id": "c8a5e761",
   "metadata": {},
   "outputs": [
    {
     "data": {
      "application/vnd.microsoft.datawrangler.viewer.v0+json": {
       "columns": [
        {
         "name": "index",
         "rawType": "int64",
         "type": "integer"
        },
        {
         "name": "assessment_id",
         "rawType": "int64",
         "type": "integer"
        },
        {
         "name": "vehicle_make",
         "rawType": "int64",
         "type": "integer"
        },
        {
         "name": "vehicle make",
         "rawType": "object",
         "type": "string"
        },
        {
         "name": "vehicle_model",
         "rawType": "int64",
         "type": "integer"
        },
        {
         "name": "vehicle model",
         "rawType": "object",
         "type": "string"
        },
        {
         "name": "model_code",
         "rawType": "int64",
         "type": "integer"
        },
        {
         "name": "model code",
         "rawType": "object",
         "type": "string"
        },
        {
         "name": "part/service",
         "rawType": "int64",
         "type": "integer"
        },
        {
         "name": "category_id",
         "rawType": "int64",
         "type": "integer"
        },
        {
         "name": "category",
         "rawType": "object",
         "type": "string"
        },
        {
         "name": "part or service",
         "rawType": "object",
         "type": "string"
        },
        {
         "name": "service_provider",
         "rawType": "float64",
         "type": "float"
        },
        {
         "name": "part_condition",
         "rawType": "int64",
         "type": "integer"
        },
        {
         "name": "part condition",
         "rawType": "object",
         "type": "string"
        },
        {
         "name": "part_type",
         "rawType": "object",
         "type": "string"
        },
        {
         "name": "part type",
         "rawType": "object",
         "type": "string"
        },
        {
         "name": "quantity",
         "rawType": "int64",
         "type": "integer"
        },
        {
         "name": "fix_type",
         "rawType": "object",
         "type": "string"
        },
        {
         "name": "fix type",
         "rawType": "object",
         "type": "string"
        },
        {
         "name": "damage_id",
         "rawType": "object",
         "type": "string"
        },
        {
         "name": "damage",
         "rawType": "object",
         "type": "string"
        },
        {
         "name": "estimated_repair_days",
         "rawType": "int64",
         "type": "integer"
        },
        {
         "name": "for_painting",
         "rawType": "object",
         "type": "string"
        },
        {
         "name": "paint_type",
         "rawType": "object",
         "type": "string"
        },
        {
         "name": "paint type",
         "rawType": "object",
         "type": "string"
        },
        {
         "name": "panels_to_paint",
         "rawType": "float64",
         "type": "float"
        },
        {
         "name": "unit_price (vat incl. 16%)",
         "rawType": "float64",
         "type": "float"
        },
        {
         "name": "date",
         "rawType": "object",
         "type": "string"
        }
       ],
       "ref": "a34de69e-1e41-4e54-9e9e-84267250a8d5",
       "rows": [
        [
         "0",
         "56",
         "24",
         "Honda",
         "246",
         "CR-V",
         "5346",
         "DBA-RM4",
         "1683",
         "1",
         "Body",
         "Boot Catch Panel",
         "44.0",
         "2",
         "-",
         "-",
         "-",
         "1",
         "1",
         "replace",
         "1",
         "Scratched",
         "4",
         "no",
         "-",
         "-",
         null,
         null,
         "10/23/2023 8:36"
        ],
        [
         "1",
         "56",
         "24",
         "Honda",
         "246",
         "CR-V",
         "5346",
         "DBA-RM4",
         "1311",
         "1",
         "Body",
         "LHR Wheel Arch Moulding",
         "44.0",
         "1",
         "used",
         "1",
         "Dealer/OEM",
         "1",
         "0",
         "repair",
         "11",
         "Broken",
         "4",
         "no",
         "-",
         "-",
         null,
         "9280.0",
         "10/23/2023 8:36"
        ],
        [
         "2",
         "56",
         "24",
         "Honda",
         "246",
         "CR-V",
         "5346",
         "DBA-RM4",
         "48",
         "1",
         "Body",
         "LHS Rear Wing",
         "44.0",
         "2",
         "-",
         "-",
         "-",
         "1",
         "1",
         "replace",
         "1",
         "Scratched",
         "4",
         "yes",
         "1",
         "Metallic",
         "4.0",
         null,
         "10/23/2023 8:36"
        ],
        [
         "3",
         "56",
         "24",
         "Honda",
         "246",
         "CR-V",
         "5346",
         "DBA-RM4",
         "99",
         "1",
         "Body",
         "Tailgate Assembly",
         "81.0",
         "1",
         "used",
         "1",
         "Dealer/OEM",
         "1",
         "0",
         "repair",
         "4",
         "Buckled",
         "4",
         "yes",
         "1",
         "Metallic",
         "4.0",
         "139200.0",
         "10/23/2023 8:36"
        ],
        [
         "4",
         "56",
         "24",
         "Honda",
         "246",
         "CR-V",
         "5346",
         "DBA-RM4",
         "1151",
         "1",
         "Body",
         "Tailgate Shocks",
         "44.0",
         "1",
         "used",
         "1",
         "Dealer/OEM",
         "1",
         "0",
         "repair",
         "9",
         "Bent",
         "4",
         "no",
         "-",
         "-",
         null,
         "5800.0",
         "10/23/2023 8:36"
        ]
       ],
       "shape": {
        "columns": 28,
        "rows": 5
       }
      },
      "text/html": [
       "<div>\n",
       "<style scoped>\n",
       "    .dataframe tbody tr th:only-of-type {\n",
       "        vertical-align: middle;\n",
       "    }\n",
       "\n",
       "    .dataframe tbody tr th {\n",
       "        vertical-align: top;\n",
       "    }\n",
       "\n",
       "    .dataframe thead th {\n",
       "        text-align: right;\n",
       "    }\n",
       "</style>\n",
       "<table border=\"1\" class=\"dataframe\">\n",
       "  <thead>\n",
       "    <tr style=\"text-align: right;\">\n",
       "      <th></th>\n",
       "      <th>assessment_id</th>\n",
       "      <th>vehicle_make</th>\n",
       "      <th>vehicle make</th>\n",
       "      <th>vehicle_model</th>\n",
       "      <th>vehicle model</th>\n",
       "      <th>model_code</th>\n",
       "      <th>model code</th>\n",
       "      <th>part/service</th>\n",
       "      <th>category_id</th>\n",
       "      <th>category</th>\n",
       "      <th>...</th>\n",
       "      <th>fix type</th>\n",
       "      <th>damage_id</th>\n",
       "      <th>damage</th>\n",
       "      <th>estimated_repair_days</th>\n",
       "      <th>for_painting</th>\n",
       "      <th>paint_type</th>\n",
       "      <th>paint type</th>\n",
       "      <th>panels_to_paint</th>\n",
       "      <th>unit_price (vat incl. 16%)</th>\n",
       "      <th>date</th>\n",
       "    </tr>\n",
       "  </thead>\n",
       "  <tbody>\n",
       "    <tr>\n",
       "      <th>0</th>\n",
       "      <td>56</td>\n",
       "      <td>24</td>\n",
       "      <td>Honda</td>\n",
       "      <td>246</td>\n",
       "      <td>CR-V</td>\n",
       "      <td>5346</td>\n",
       "      <td>DBA-RM4</td>\n",
       "      <td>1683</td>\n",
       "      <td>1</td>\n",
       "      <td>Body</td>\n",
       "      <td>...</td>\n",
       "      <td>replace</td>\n",
       "      <td>1</td>\n",
       "      <td>Scratched</td>\n",
       "      <td>4</td>\n",
       "      <td>no</td>\n",
       "      <td>-</td>\n",
       "      <td>-</td>\n",
       "      <td>NaN</td>\n",
       "      <td>NaN</td>\n",
       "      <td>10/23/2023 8:36</td>\n",
       "    </tr>\n",
       "    <tr>\n",
       "      <th>1</th>\n",
       "      <td>56</td>\n",
       "      <td>24</td>\n",
       "      <td>Honda</td>\n",
       "      <td>246</td>\n",
       "      <td>CR-V</td>\n",
       "      <td>5346</td>\n",
       "      <td>DBA-RM4</td>\n",
       "      <td>1311</td>\n",
       "      <td>1</td>\n",
       "      <td>Body</td>\n",
       "      <td>...</td>\n",
       "      <td>repair</td>\n",
       "      <td>11</td>\n",
       "      <td>Broken</td>\n",
       "      <td>4</td>\n",
       "      <td>no</td>\n",
       "      <td>-</td>\n",
       "      <td>-</td>\n",
       "      <td>NaN</td>\n",
       "      <td>9280.0</td>\n",
       "      <td>10/23/2023 8:36</td>\n",
       "    </tr>\n",
       "    <tr>\n",
       "      <th>2</th>\n",
       "      <td>56</td>\n",
       "      <td>24</td>\n",
       "      <td>Honda</td>\n",
       "      <td>246</td>\n",
       "      <td>CR-V</td>\n",
       "      <td>5346</td>\n",
       "      <td>DBA-RM4</td>\n",
       "      <td>48</td>\n",
       "      <td>1</td>\n",
       "      <td>Body</td>\n",
       "      <td>...</td>\n",
       "      <td>replace</td>\n",
       "      <td>1</td>\n",
       "      <td>Scratched</td>\n",
       "      <td>4</td>\n",
       "      <td>yes</td>\n",
       "      <td>1</td>\n",
       "      <td>Metallic</td>\n",
       "      <td>4.0</td>\n",
       "      <td>NaN</td>\n",
       "      <td>10/23/2023 8:36</td>\n",
       "    </tr>\n",
       "    <tr>\n",
       "      <th>3</th>\n",
       "      <td>56</td>\n",
       "      <td>24</td>\n",
       "      <td>Honda</td>\n",
       "      <td>246</td>\n",
       "      <td>CR-V</td>\n",
       "      <td>5346</td>\n",
       "      <td>DBA-RM4</td>\n",
       "      <td>99</td>\n",
       "      <td>1</td>\n",
       "      <td>Body</td>\n",
       "      <td>...</td>\n",
       "      <td>repair</td>\n",
       "      <td>4</td>\n",
       "      <td>Buckled</td>\n",
       "      <td>4</td>\n",
       "      <td>yes</td>\n",
       "      <td>1</td>\n",
       "      <td>Metallic</td>\n",
       "      <td>4.0</td>\n",
       "      <td>139200.0</td>\n",
       "      <td>10/23/2023 8:36</td>\n",
       "    </tr>\n",
       "    <tr>\n",
       "      <th>4</th>\n",
       "      <td>56</td>\n",
       "      <td>24</td>\n",
       "      <td>Honda</td>\n",
       "      <td>246</td>\n",
       "      <td>CR-V</td>\n",
       "      <td>5346</td>\n",
       "      <td>DBA-RM4</td>\n",
       "      <td>1151</td>\n",
       "      <td>1</td>\n",
       "      <td>Body</td>\n",
       "      <td>...</td>\n",
       "      <td>repair</td>\n",
       "      <td>9</td>\n",
       "      <td>Bent</td>\n",
       "      <td>4</td>\n",
       "      <td>no</td>\n",
       "      <td>-</td>\n",
       "      <td>-</td>\n",
       "      <td>NaN</td>\n",
       "      <td>5800.0</td>\n",
       "      <td>10/23/2023 8:36</td>\n",
       "    </tr>\n",
       "  </tbody>\n",
       "</table>\n",
       "<p>5 rows × 28 columns</p>\n",
       "</div>"
      ],
      "text/plain": [
       "   assessment_id  vehicle_make vehicle make  vehicle_model vehicle model  \\\n",
       "0             56            24        Honda            246          CR-V   \n",
       "1             56            24        Honda            246          CR-V   \n",
       "2             56            24        Honda            246          CR-V   \n",
       "3             56            24        Honda            246          CR-V   \n",
       "4             56            24        Honda            246          CR-V   \n",
       "\n",
       "   model_code model code  part/service  category_id category  ... fix type  \\\n",
       "0        5346    DBA-RM4          1683            1     Body  ...  replace   \n",
       "1        5346    DBA-RM4          1311            1     Body  ...   repair   \n",
       "2        5346    DBA-RM4            48            1     Body  ...  replace   \n",
       "3        5346    DBA-RM4            99            1     Body  ...   repair   \n",
       "4        5346    DBA-RM4          1151            1     Body  ...   repair   \n",
       "\n",
       "   damage_id     damage estimated_repair_days for_painting paint_type  \\\n",
       "0          1  Scratched                     4           no          -   \n",
       "1         11     Broken                     4           no          -   \n",
       "2          1  Scratched                     4          yes          1   \n",
       "3          4    Buckled                     4          yes          1   \n",
       "4          9       Bent                     4           no          -   \n",
       "\n",
       "   paint type panels_to_paint unit_price (vat incl. 16%)             date  \n",
       "0           -             NaN                        NaN  10/23/2023 8:36  \n",
       "1           -             NaN                     9280.0  10/23/2023 8:36  \n",
       "2    Metallic             4.0                        NaN  10/23/2023 8:36  \n",
       "3    Metallic             4.0                   139200.0  10/23/2023 8:36  \n",
       "4           -             NaN                     5800.0  10/23/2023 8:36  \n",
       "\n",
       "[5 rows x 28 columns]"
      ]
     },
     "execution_count": 173,
     "metadata": {},
     "output_type": "execute_result"
    }
   ],
   "source": [
    "honda_parts= pd.read_csv('honda_parts_data.csv')\n",
    "# Display the first few rows of the dataset\n",
    "\n",
    "honda_parts.head()"
   ]
  },
  {
   "cell_type": "markdown",
   "id": "a2ade4d1",
   "metadata": {},
   "source": [
    "- Inspecting the data"
   ]
  },
  {
   "cell_type": "code",
   "execution_count": 174,
   "id": "8ade4a72",
   "metadata": {},
   "outputs": [
    {
     "name": "stdout",
     "output_type": "stream",
     "text": [
      "<class 'pandas.core.frame.DataFrame'>\n",
      "RangeIndex: 435 entries, 0 to 434\n",
      "Data columns (total 28 columns):\n",
      " #   Column                      Non-Null Count  Dtype  \n",
      "---  ------                      --------------  -----  \n",
      " 0   assessment_id               435 non-null    int64  \n",
      " 1   vehicle_make                435 non-null    int64  \n",
      " 2   vehicle make                435 non-null    object \n",
      " 3   vehicle_model               435 non-null    int64  \n",
      " 4   vehicle model               435 non-null    object \n",
      " 5   model_code                  435 non-null    int64  \n",
      " 6   model code                  435 non-null    object \n",
      " 7   part/service                435 non-null    int64  \n",
      " 8   category_id                 435 non-null    int64  \n",
      " 9   category                    435 non-null    object \n",
      " 10  part or service             435 non-null    object \n",
      " 11  service_provider            425 non-null    float64\n",
      " 12  part_condition              435 non-null    int64  \n",
      " 13  part condition              435 non-null    object \n",
      " 14  part_type                   435 non-null    object \n",
      " 15  part type                   435 non-null    object \n",
      " 16  quantity                    435 non-null    int64  \n",
      " 17  fix_type                    435 non-null    object \n",
      " 18  fix type                    435 non-null    object \n",
      " 19  damage_id                   435 non-null    object \n",
      " 20  damage                      435 non-null    object \n",
      " 21  estimated_repair_days       435 non-null    int64  \n",
      " 22  for_painting                435 non-null    object \n",
      " 23  paint_type                  435 non-null    object \n",
      " 24  paint type                  435 non-null    object \n",
      " 25  panels_to_paint             120 non-null    float64\n",
      " 26  unit_price (vat incl. 16%)  358 non-null    float64\n",
      " 27  date                        435 non-null    object \n",
      "dtypes: float64(3), int64(9), object(16)\n",
      "memory usage: 95.3+ KB\n"
     ]
    }
   ],
   "source": [
    "honda_parts.info()"
   ]
  },
  {
   "cell_type": "code",
   "execution_count": 175,
   "id": "8c3111dc",
   "metadata": {},
   "outputs": [
    {
     "data": {
      "text/plain": [
       "Index(['assessment_id', 'vehicle_make', 'vehicle make', 'vehicle_model',\n",
       "       'vehicle model', 'model_code', 'model code', 'part/service',\n",
       "       'category_id', 'category', 'part or service', 'service_provider',\n",
       "       'part_condition', 'part condition', 'part_type', 'part type',\n",
       "       'quantity', 'fix_type', 'fix type', 'damage_id', 'damage',\n",
       "       'estimated_repair_days', 'for_painting', 'paint_type', 'paint type',\n",
       "       'panels_to_paint', 'unit_price (vat incl. 16%)', 'date'],\n",
       "      dtype='object')"
      ]
     },
     "execution_count": 175,
     "metadata": {},
     "output_type": "execute_result"
    }
   ],
   "source": [
    "honda_parts.columns"
   ]
  },
  {
   "cell_type": "code",
   "execution_count": 176,
   "id": "1c667a4a",
   "metadata": {},
   "outputs": [
    {
     "data": {
      "application/vnd.microsoft.datawrangler.viewer.v0+json": {
       "columns": [
        {
         "name": "index",
         "rawType": "object",
         "type": "string"
        },
        {
         "name": "0",
         "rawType": "int64",
         "type": "integer"
        }
       ],
       "ref": "0ee42bc1-2497-4856-aa9d-26fb87fe6e13",
       "rows": [
        [
         "assessment_id",
         "0"
        ],
        [
         "vehicle_make",
         "0"
        ],
        [
         "vehicle make",
         "0"
        ],
        [
         "vehicle_model",
         "0"
        ],
        [
         "vehicle model",
         "0"
        ],
        [
         "model_code",
         "0"
        ],
        [
         "model code",
         "0"
        ],
        [
         "part/service",
         "0"
        ],
        [
         "category_id",
         "0"
        ],
        [
         "category",
         "0"
        ],
        [
         "part or service",
         "0"
        ],
        [
         "service_provider",
         "10"
        ],
        [
         "part_condition",
         "0"
        ],
        [
         "part condition",
         "0"
        ],
        [
         "part_type",
         "0"
        ],
        [
         "part type",
         "0"
        ],
        [
         "quantity",
         "0"
        ],
        [
         "fix_type",
         "0"
        ],
        [
         "fix type",
         "0"
        ],
        [
         "damage_id",
         "0"
        ],
        [
         "damage",
         "0"
        ],
        [
         "estimated_repair_days",
         "0"
        ],
        [
         "for_painting",
         "0"
        ],
        [
         "paint_type",
         "0"
        ],
        [
         "paint type",
         "0"
        ],
        [
         "panels_to_paint",
         "315"
        ],
        [
         "unit_price (vat incl. 16%)",
         "77"
        ],
        [
         "date",
         "0"
        ]
       ],
       "shape": {
        "columns": 1,
        "rows": 28
       }
      },
      "text/plain": [
       "assessment_id                   0\n",
       "vehicle_make                    0\n",
       "vehicle make                    0\n",
       "vehicle_model                   0\n",
       "vehicle model                   0\n",
       "model_code                      0\n",
       "model code                      0\n",
       "part/service                    0\n",
       "category_id                     0\n",
       "category                        0\n",
       "part or service                 0\n",
       "service_provider               10\n",
       "part_condition                  0\n",
       "part condition                  0\n",
       "part_type                       0\n",
       "part type                       0\n",
       "quantity                        0\n",
       "fix_type                        0\n",
       "fix type                        0\n",
       "damage_id                       0\n",
       "damage                          0\n",
       "estimated_repair_days           0\n",
       "for_painting                    0\n",
       "paint_type                      0\n",
       "paint type                      0\n",
       "panels_to_paint               315\n",
       "unit_price (vat incl. 16%)     77\n",
       "date                            0\n",
       "dtype: int64"
      ]
     },
     "execution_count": 176,
     "metadata": {},
     "output_type": "execute_result"
    }
   ],
   "source": [
    "honda_parts.isnull().sum()  "
   ]
  },
  {
   "cell_type": "code",
   "execution_count": 177,
   "id": "f9788aed",
   "metadata": {},
   "outputs": [
    {
     "data": {
      "application/vnd.microsoft.datawrangler.viewer.v0+json": {
       "columns": [
        {
         "name": "index",
         "rawType": "int64",
         "type": "integer"
        },
        {
         "name": "assessment_id",
         "rawType": "int64",
         "type": "integer"
        },
        {
         "name": "vehicle_make",
         "rawType": "int64",
         "type": "integer"
        },
        {
         "name": "vehicle make",
         "rawType": "object",
         "type": "string"
        },
        {
         "name": "vehicle_model",
         "rawType": "int64",
         "type": "integer"
        },
        {
         "name": "vehicle model",
         "rawType": "object",
         "type": "string"
        },
        {
         "name": "model_code",
         "rawType": "int64",
         "type": "integer"
        },
        {
         "name": "model code",
         "rawType": "object",
         "type": "string"
        },
        {
         "name": "part/service",
         "rawType": "int64",
         "type": "integer"
        },
        {
         "name": "category_id",
         "rawType": "int64",
         "type": "integer"
        },
        {
         "name": "category",
         "rawType": "object",
         "type": "string"
        },
        {
         "name": "part or service",
         "rawType": "object",
         "type": "string"
        },
        {
         "name": "service_provider",
         "rawType": "float64",
         "type": "float"
        },
        {
         "name": "part_condition",
         "rawType": "int64",
         "type": "integer"
        },
        {
         "name": "part condition",
         "rawType": "object",
         "type": "string"
        },
        {
         "name": "part_type",
         "rawType": "object",
         "type": "string"
        },
        {
         "name": "part type",
         "rawType": "object",
         "type": "string"
        },
        {
         "name": "quantity",
         "rawType": "int64",
         "type": "integer"
        },
        {
         "name": "fix_type",
         "rawType": "object",
         "type": "string"
        },
        {
         "name": "fix type",
         "rawType": "object",
         "type": "string"
        },
        {
         "name": "damage_id",
         "rawType": "object",
         "type": "string"
        },
        {
         "name": "damage",
         "rawType": "object",
         "type": "string"
        },
        {
         "name": "estimated_repair_days",
         "rawType": "int64",
         "type": "integer"
        },
        {
         "name": "for_painting",
         "rawType": "object",
         "type": "string"
        },
        {
         "name": "paint_type",
         "rawType": "object",
         "type": "string"
        },
        {
         "name": "paint type",
         "rawType": "object",
         "type": "string"
        },
        {
         "name": "panels_to_paint",
         "rawType": "float64",
         "type": "float"
        },
        {
         "name": "unit_price (vat incl. 16%)",
         "rawType": "float64",
         "type": "float"
        },
        {
         "name": "date",
         "rawType": "object",
         "type": "string"
        }
       ],
       "ref": "5a4bd361-cfe7-4fcc-803d-97e734e6f041",
       "rows": [
        [
         "0",
         "56",
         "24",
         "Honda",
         "246",
         "CR-V",
         "5346",
         "DBA-RM4",
         "1683",
         "1",
         "Body",
         "Boot Catch Panel",
         "44.0",
         "2",
         "-",
         "-",
         "-",
         "1",
         "1",
         "replace",
         "1",
         "Scratched",
         "4",
         "no",
         "-",
         "-",
         null,
         null,
         "10/23/2023 8:36"
        ],
        [
         "1",
         "56",
         "24",
         "Honda",
         "246",
         "CR-V",
         "5346",
         "DBA-RM4",
         "1311",
         "1",
         "Body",
         "LHR Wheel Arch Moulding",
         "44.0",
         "1",
         "used",
         "1",
         "Dealer/OEM",
         "1",
         "0",
         "repair",
         "11",
         "Broken",
         "4",
         "no",
         "-",
         "-",
         null,
         "9280.0",
         "10/23/2023 8:36"
        ],
        [
         "2",
         "56",
         "24",
         "Honda",
         "246",
         "CR-V",
         "5346",
         "DBA-RM4",
         "48",
         "1",
         "Body",
         "LHS Rear Wing",
         "44.0",
         "2",
         "-",
         "-",
         "-",
         "1",
         "1",
         "replace",
         "1",
         "Scratched",
         "4",
         "yes",
         "1",
         "Metallic",
         "4.0",
         null,
         "10/23/2023 8:36"
        ],
        [
         "3",
         "56",
         "24",
         "Honda",
         "246",
         "CR-V",
         "5346",
         "DBA-RM4",
         "99",
         "1",
         "Body",
         "Tailgate Assembly",
         "81.0",
         "1",
         "used",
         "1",
         "Dealer/OEM",
         "1",
         "0",
         "repair",
         "4",
         "Buckled",
         "4",
         "yes",
         "1",
         "Metallic",
         "4.0",
         "139200.0",
         "10/23/2023 8:36"
        ],
        [
         "4",
         "56",
         "24",
         "Honda",
         "246",
         "CR-V",
         "5346",
         "DBA-RM4",
         "1151",
         "1",
         "Body",
         "Tailgate Shocks",
         "44.0",
         "1",
         "used",
         "1",
         "Dealer/OEM",
         "1",
         "0",
         "repair",
         "9",
         "Bent",
         "4",
         "no",
         "-",
         "-",
         null,
         "5800.0",
         "10/23/2023 8:36"
        ]
       ],
       "shape": {
        "columns": 28,
        "rows": 5
       }
      },
      "text/html": [
       "<div>\n",
       "<style scoped>\n",
       "    .dataframe tbody tr th:only-of-type {\n",
       "        vertical-align: middle;\n",
       "    }\n",
       "\n",
       "    .dataframe tbody tr th {\n",
       "        vertical-align: top;\n",
       "    }\n",
       "\n",
       "    .dataframe thead th {\n",
       "        text-align: right;\n",
       "    }\n",
       "</style>\n",
       "<table border=\"1\" class=\"dataframe\">\n",
       "  <thead>\n",
       "    <tr style=\"text-align: right;\">\n",
       "      <th></th>\n",
       "      <th>assessment_id</th>\n",
       "      <th>vehicle_make</th>\n",
       "      <th>vehicle make</th>\n",
       "      <th>vehicle_model</th>\n",
       "      <th>vehicle model</th>\n",
       "      <th>model_code</th>\n",
       "      <th>model code</th>\n",
       "      <th>part/service</th>\n",
       "      <th>category_id</th>\n",
       "      <th>category</th>\n",
       "      <th>...</th>\n",
       "      <th>fix type</th>\n",
       "      <th>damage_id</th>\n",
       "      <th>damage</th>\n",
       "      <th>estimated_repair_days</th>\n",
       "      <th>for_painting</th>\n",
       "      <th>paint_type</th>\n",
       "      <th>paint type</th>\n",
       "      <th>panels_to_paint</th>\n",
       "      <th>unit_price (vat incl. 16%)</th>\n",
       "      <th>date</th>\n",
       "    </tr>\n",
       "  </thead>\n",
       "  <tbody>\n",
       "    <tr>\n",
       "      <th>0</th>\n",
       "      <td>56</td>\n",
       "      <td>24</td>\n",
       "      <td>Honda</td>\n",
       "      <td>246</td>\n",
       "      <td>CR-V</td>\n",
       "      <td>5346</td>\n",
       "      <td>DBA-RM4</td>\n",
       "      <td>1683</td>\n",
       "      <td>1</td>\n",
       "      <td>Body</td>\n",
       "      <td>...</td>\n",
       "      <td>replace</td>\n",
       "      <td>1</td>\n",
       "      <td>Scratched</td>\n",
       "      <td>4</td>\n",
       "      <td>no</td>\n",
       "      <td>-</td>\n",
       "      <td>-</td>\n",
       "      <td>NaN</td>\n",
       "      <td>NaN</td>\n",
       "      <td>10/23/2023 8:36</td>\n",
       "    </tr>\n",
       "    <tr>\n",
       "      <th>1</th>\n",
       "      <td>56</td>\n",
       "      <td>24</td>\n",
       "      <td>Honda</td>\n",
       "      <td>246</td>\n",
       "      <td>CR-V</td>\n",
       "      <td>5346</td>\n",
       "      <td>DBA-RM4</td>\n",
       "      <td>1311</td>\n",
       "      <td>1</td>\n",
       "      <td>Body</td>\n",
       "      <td>...</td>\n",
       "      <td>repair</td>\n",
       "      <td>11</td>\n",
       "      <td>Broken</td>\n",
       "      <td>4</td>\n",
       "      <td>no</td>\n",
       "      <td>-</td>\n",
       "      <td>-</td>\n",
       "      <td>NaN</td>\n",
       "      <td>9280.0</td>\n",
       "      <td>10/23/2023 8:36</td>\n",
       "    </tr>\n",
       "    <tr>\n",
       "      <th>2</th>\n",
       "      <td>56</td>\n",
       "      <td>24</td>\n",
       "      <td>Honda</td>\n",
       "      <td>246</td>\n",
       "      <td>CR-V</td>\n",
       "      <td>5346</td>\n",
       "      <td>DBA-RM4</td>\n",
       "      <td>48</td>\n",
       "      <td>1</td>\n",
       "      <td>Body</td>\n",
       "      <td>...</td>\n",
       "      <td>replace</td>\n",
       "      <td>1</td>\n",
       "      <td>Scratched</td>\n",
       "      <td>4</td>\n",
       "      <td>yes</td>\n",
       "      <td>1</td>\n",
       "      <td>Metallic</td>\n",
       "      <td>4.0</td>\n",
       "      <td>NaN</td>\n",
       "      <td>10/23/2023 8:36</td>\n",
       "    </tr>\n",
       "    <tr>\n",
       "      <th>3</th>\n",
       "      <td>56</td>\n",
       "      <td>24</td>\n",
       "      <td>Honda</td>\n",
       "      <td>246</td>\n",
       "      <td>CR-V</td>\n",
       "      <td>5346</td>\n",
       "      <td>DBA-RM4</td>\n",
       "      <td>99</td>\n",
       "      <td>1</td>\n",
       "      <td>Body</td>\n",
       "      <td>...</td>\n",
       "      <td>repair</td>\n",
       "      <td>4</td>\n",
       "      <td>Buckled</td>\n",
       "      <td>4</td>\n",
       "      <td>yes</td>\n",
       "      <td>1</td>\n",
       "      <td>Metallic</td>\n",
       "      <td>4.0</td>\n",
       "      <td>139200.0</td>\n",
       "      <td>10/23/2023 8:36</td>\n",
       "    </tr>\n",
       "    <tr>\n",
       "      <th>4</th>\n",
       "      <td>56</td>\n",
       "      <td>24</td>\n",
       "      <td>Honda</td>\n",
       "      <td>246</td>\n",
       "      <td>CR-V</td>\n",
       "      <td>5346</td>\n",
       "      <td>DBA-RM4</td>\n",
       "      <td>1151</td>\n",
       "      <td>1</td>\n",
       "      <td>Body</td>\n",
       "      <td>...</td>\n",
       "      <td>repair</td>\n",
       "      <td>9</td>\n",
       "      <td>Bent</td>\n",
       "      <td>4</td>\n",
       "      <td>no</td>\n",
       "      <td>-</td>\n",
       "      <td>-</td>\n",
       "      <td>NaN</td>\n",
       "      <td>5800.0</td>\n",
       "      <td>10/23/2023 8:36</td>\n",
       "    </tr>\n",
       "  </tbody>\n",
       "</table>\n",
       "<p>5 rows × 28 columns</p>\n",
       "</div>"
      ],
      "text/plain": [
       "   assessment_id  vehicle_make vehicle make  vehicle_model vehicle model  \\\n",
       "0             56            24        Honda            246          CR-V   \n",
       "1             56            24        Honda            246          CR-V   \n",
       "2             56            24        Honda            246          CR-V   \n",
       "3             56            24        Honda            246          CR-V   \n",
       "4             56            24        Honda            246          CR-V   \n",
       "\n",
       "   model_code model code  part/service  category_id category  ... fix type  \\\n",
       "0        5346    DBA-RM4          1683            1     Body  ...  replace   \n",
       "1        5346    DBA-RM4          1311            1     Body  ...   repair   \n",
       "2        5346    DBA-RM4            48            1     Body  ...  replace   \n",
       "3        5346    DBA-RM4            99            1     Body  ...   repair   \n",
       "4        5346    DBA-RM4          1151            1     Body  ...   repair   \n",
       "\n",
       "   damage_id     damage estimated_repair_days for_painting paint_type  \\\n",
       "0          1  Scratched                     4           no          -   \n",
       "1         11     Broken                     4           no          -   \n",
       "2          1  Scratched                     4          yes          1   \n",
       "3          4    Buckled                     4          yes          1   \n",
       "4          9       Bent                     4           no          -   \n",
       "\n",
       "   paint type panels_to_paint unit_price (vat incl. 16%)             date  \n",
       "0           -             NaN                        NaN  10/23/2023 8:36  \n",
       "1           -             NaN                     9280.0  10/23/2023 8:36  \n",
       "2    Metallic             4.0                        NaN  10/23/2023 8:36  \n",
       "3    Metallic             4.0                   139200.0  10/23/2023 8:36  \n",
       "4           -             NaN                     5800.0  10/23/2023 8:36  \n",
       "\n",
       "[5 rows x 28 columns]"
      ]
     },
     "execution_count": 177,
     "metadata": {},
     "output_type": "execute_result"
    }
   ],
   "source": [
    "#assigning the DataFrame to a new variable\n",
    "clean_df = honda_parts\n",
    "clean_df.head()"
   ]
  },
  {
   "cell_type": "markdown",
   "id": "8576d5c7",
   "metadata": {},
   "source": [
    "#Renaming columns"
   ]
  },
  {
   "cell_type": "code",
   "execution_count": 178,
   "id": "26fca6d5",
   "metadata": {},
   "outputs": [],
   "source": [
    "clean_df.columns.values[1] = 'Vehicle_make_id'\n",
    "clean_df.columns.values[3] = 'Vehicle_model_id'\n",
    "clean_df.columns.values[5] = 'model_code_id'\n",
    "clean_df.columns.values[7] = 'part/service_id'\n",
    "clean_df.columns.values[11] = 'pervice_provider_id'\n",
    "clean_df.columns.values[12] = 'part_condition_id'\n",
    "clean_df.columns.values[14] = 'part_type_id'\n",
    "clean_df.columns.values[17] = 'fix_type_id'\n",
    "clean_df.columns.values[23] = 'paint_type_id'\n"
   ]
  },
  {
   "cell_type": "markdown",
   "id": "a86d4548",
   "metadata": {},
   "source": [
    "- Viewing the  changes made"
   ]
  },
  {
   "cell_type": "code",
   "execution_count": 179,
   "id": "73fdd910",
   "metadata": {},
   "outputs": [
    {
     "data": {
      "application/vnd.microsoft.datawrangler.viewer.v0+json": {
       "columns": [
        {
         "name": "index",
         "rawType": "int64",
         "type": "integer"
        },
        {
         "name": "assessment_id",
         "rawType": "int64",
         "type": "integer"
        },
        {
         "name": "Vehicle_make_id",
         "rawType": "int64",
         "type": "integer"
        },
        {
         "name": "vehicle make",
         "rawType": "object",
         "type": "string"
        },
        {
         "name": "Vehicle_model_id",
         "rawType": "int64",
         "type": "integer"
        },
        {
         "name": "vehicle model",
         "rawType": "object",
         "type": "string"
        },
        {
         "name": "model_code_id",
         "rawType": "int64",
         "type": "integer"
        },
        {
         "name": "model code",
         "rawType": "object",
         "type": "string"
        },
        {
         "name": "part/service_id",
         "rawType": "int64",
         "type": "integer"
        },
        {
         "name": "category_id",
         "rawType": "int64",
         "type": "integer"
        },
        {
         "name": "category",
         "rawType": "object",
         "type": "string"
        },
        {
         "name": "part or service",
         "rawType": "object",
         "type": "string"
        },
        {
         "name": "pervice_provider_id",
         "rawType": "float64",
         "type": "float"
        },
        {
         "name": "part_condition_id",
         "rawType": "int64",
         "type": "integer"
        },
        {
         "name": "part condition",
         "rawType": "object",
         "type": "string"
        },
        {
         "name": "part_type_id",
         "rawType": "object",
         "type": "string"
        },
        {
         "name": "part type",
         "rawType": "object",
         "type": "string"
        },
        {
         "name": "quantity",
         "rawType": "int64",
         "type": "integer"
        },
        {
         "name": "fix_type_id",
         "rawType": "object",
         "type": "string"
        },
        {
         "name": "fix type",
         "rawType": "object",
         "type": "string"
        },
        {
         "name": "damage_id",
         "rawType": "object",
         "type": "string"
        },
        {
         "name": "damage",
         "rawType": "object",
         "type": "string"
        },
        {
         "name": "estimated_repair_days",
         "rawType": "int64",
         "type": "integer"
        },
        {
         "name": "for_painting",
         "rawType": "object",
         "type": "string"
        },
        {
         "name": "paint_type_id",
         "rawType": "object",
         "type": "string"
        },
        {
         "name": "paint type",
         "rawType": "object",
         "type": "string"
        },
        {
         "name": "panels_to_paint",
         "rawType": "float64",
         "type": "float"
        },
        {
         "name": "unit_price (vat incl. 16%)",
         "rawType": "float64",
         "type": "float"
        },
        {
         "name": "date",
         "rawType": "object",
         "type": "string"
        }
       ],
       "ref": "ad7ac06e-f48f-4cb9-81b4-e9203bc4c7fc",
       "rows": [
        [
         "0",
         "56",
         "24",
         "Honda",
         "246",
         "CR-V",
         "5346",
         "DBA-RM4",
         "1683",
         "1",
         "Body",
         "Boot Catch Panel",
         "44.0",
         "2",
         "-",
         "-",
         "-",
         "1",
         "1",
         "replace",
         "1",
         "Scratched",
         "4",
         "no",
         "-",
         "-",
         null,
         null,
         "10/23/2023 8:36"
        ],
        [
         "1",
         "56",
         "24",
         "Honda",
         "246",
         "CR-V",
         "5346",
         "DBA-RM4",
         "1311",
         "1",
         "Body",
         "LHR Wheel Arch Moulding",
         "44.0",
         "1",
         "used",
         "1",
         "Dealer/OEM",
         "1",
         "0",
         "repair",
         "11",
         "Broken",
         "4",
         "no",
         "-",
         "-",
         null,
         "9280.0",
         "10/23/2023 8:36"
        ],
        [
         "2",
         "56",
         "24",
         "Honda",
         "246",
         "CR-V",
         "5346",
         "DBA-RM4",
         "48",
         "1",
         "Body",
         "LHS Rear Wing",
         "44.0",
         "2",
         "-",
         "-",
         "-",
         "1",
         "1",
         "replace",
         "1",
         "Scratched",
         "4",
         "yes",
         "1",
         "Metallic",
         "4.0",
         null,
         "10/23/2023 8:36"
        ],
        [
         "3",
         "56",
         "24",
         "Honda",
         "246",
         "CR-V",
         "5346",
         "DBA-RM4",
         "99",
         "1",
         "Body",
         "Tailgate Assembly",
         "81.0",
         "1",
         "used",
         "1",
         "Dealer/OEM",
         "1",
         "0",
         "repair",
         "4",
         "Buckled",
         "4",
         "yes",
         "1",
         "Metallic",
         "4.0",
         "139200.0",
         "10/23/2023 8:36"
        ],
        [
         "4",
         "56",
         "24",
         "Honda",
         "246",
         "CR-V",
         "5346",
         "DBA-RM4",
         "1151",
         "1",
         "Body",
         "Tailgate Shocks",
         "44.0",
         "1",
         "used",
         "1",
         "Dealer/OEM",
         "1",
         "0",
         "repair",
         "9",
         "Bent",
         "4",
         "no",
         "-",
         "-",
         null,
         "5800.0",
         "10/23/2023 8:36"
        ]
       ],
       "shape": {
        "columns": 28,
        "rows": 5
       }
      },
      "text/html": [
       "<div>\n",
       "<style scoped>\n",
       "    .dataframe tbody tr th:only-of-type {\n",
       "        vertical-align: middle;\n",
       "    }\n",
       "\n",
       "    .dataframe tbody tr th {\n",
       "        vertical-align: top;\n",
       "    }\n",
       "\n",
       "    .dataframe thead th {\n",
       "        text-align: right;\n",
       "    }\n",
       "</style>\n",
       "<table border=\"1\" class=\"dataframe\">\n",
       "  <thead>\n",
       "    <tr style=\"text-align: right;\">\n",
       "      <th></th>\n",
       "      <th>assessment_id</th>\n",
       "      <th>Vehicle_make_id</th>\n",
       "      <th>vehicle make</th>\n",
       "      <th>Vehicle_model_id</th>\n",
       "      <th>vehicle model</th>\n",
       "      <th>model_code_id</th>\n",
       "      <th>model code</th>\n",
       "      <th>part/service_id</th>\n",
       "      <th>category_id</th>\n",
       "      <th>category</th>\n",
       "      <th>...</th>\n",
       "      <th>fix type</th>\n",
       "      <th>damage_id</th>\n",
       "      <th>damage</th>\n",
       "      <th>estimated_repair_days</th>\n",
       "      <th>for_painting</th>\n",
       "      <th>paint_type_id</th>\n",
       "      <th>paint type</th>\n",
       "      <th>panels_to_paint</th>\n",
       "      <th>unit_price (vat incl. 16%)</th>\n",
       "      <th>date</th>\n",
       "    </tr>\n",
       "  </thead>\n",
       "  <tbody>\n",
       "    <tr>\n",
       "      <th>0</th>\n",
       "      <td>56</td>\n",
       "      <td>24</td>\n",
       "      <td>Honda</td>\n",
       "      <td>246</td>\n",
       "      <td>CR-V</td>\n",
       "      <td>5346</td>\n",
       "      <td>DBA-RM4</td>\n",
       "      <td>1683</td>\n",
       "      <td>1</td>\n",
       "      <td>Body</td>\n",
       "      <td>...</td>\n",
       "      <td>replace</td>\n",
       "      <td>1</td>\n",
       "      <td>Scratched</td>\n",
       "      <td>4</td>\n",
       "      <td>no</td>\n",
       "      <td>-</td>\n",
       "      <td>-</td>\n",
       "      <td>NaN</td>\n",
       "      <td>NaN</td>\n",
       "      <td>10/23/2023 8:36</td>\n",
       "    </tr>\n",
       "    <tr>\n",
       "      <th>1</th>\n",
       "      <td>56</td>\n",
       "      <td>24</td>\n",
       "      <td>Honda</td>\n",
       "      <td>246</td>\n",
       "      <td>CR-V</td>\n",
       "      <td>5346</td>\n",
       "      <td>DBA-RM4</td>\n",
       "      <td>1311</td>\n",
       "      <td>1</td>\n",
       "      <td>Body</td>\n",
       "      <td>...</td>\n",
       "      <td>repair</td>\n",
       "      <td>11</td>\n",
       "      <td>Broken</td>\n",
       "      <td>4</td>\n",
       "      <td>no</td>\n",
       "      <td>-</td>\n",
       "      <td>-</td>\n",
       "      <td>NaN</td>\n",
       "      <td>9280.0</td>\n",
       "      <td>10/23/2023 8:36</td>\n",
       "    </tr>\n",
       "    <tr>\n",
       "      <th>2</th>\n",
       "      <td>56</td>\n",
       "      <td>24</td>\n",
       "      <td>Honda</td>\n",
       "      <td>246</td>\n",
       "      <td>CR-V</td>\n",
       "      <td>5346</td>\n",
       "      <td>DBA-RM4</td>\n",
       "      <td>48</td>\n",
       "      <td>1</td>\n",
       "      <td>Body</td>\n",
       "      <td>...</td>\n",
       "      <td>replace</td>\n",
       "      <td>1</td>\n",
       "      <td>Scratched</td>\n",
       "      <td>4</td>\n",
       "      <td>yes</td>\n",
       "      <td>1</td>\n",
       "      <td>Metallic</td>\n",
       "      <td>4.0</td>\n",
       "      <td>NaN</td>\n",
       "      <td>10/23/2023 8:36</td>\n",
       "    </tr>\n",
       "    <tr>\n",
       "      <th>3</th>\n",
       "      <td>56</td>\n",
       "      <td>24</td>\n",
       "      <td>Honda</td>\n",
       "      <td>246</td>\n",
       "      <td>CR-V</td>\n",
       "      <td>5346</td>\n",
       "      <td>DBA-RM4</td>\n",
       "      <td>99</td>\n",
       "      <td>1</td>\n",
       "      <td>Body</td>\n",
       "      <td>...</td>\n",
       "      <td>repair</td>\n",
       "      <td>4</td>\n",
       "      <td>Buckled</td>\n",
       "      <td>4</td>\n",
       "      <td>yes</td>\n",
       "      <td>1</td>\n",
       "      <td>Metallic</td>\n",
       "      <td>4.0</td>\n",
       "      <td>139200.0</td>\n",
       "      <td>10/23/2023 8:36</td>\n",
       "    </tr>\n",
       "    <tr>\n",
       "      <th>4</th>\n",
       "      <td>56</td>\n",
       "      <td>24</td>\n",
       "      <td>Honda</td>\n",
       "      <td>246</td>\n",
       "      <td>CR-V</td>\n",
       "      <td>5346</td>\n",
       "      <td>DBA-RM4</td>\n",
       "      <td>1151</td>\n",
       "      <td>1</td>\n",
       "      <td>Body</td>\n",
       "      <td>...</td>\n",
       "      <td>repair</td>\n",
       "      <td>9</td>\n",
       "      <td>Bent</td>\n",
       "      <td>4</td>\n",
       "      <td>no</td>\n",
       "      <td>-</td>\n",
       "      <td>-</td>\n",
       "      <td>NaN</td>\n",
       "      <td>5800.0</td>\n",
       "      <td>10/23/2023 8:36</td>\n",
       "    </tr>\n",
       "  </tbody>\n",
       "</table>\n",
       "<p>5 rows × 28 columns</p>\n",
       "</div>"
      ],
      "text/plain": [
       "   assessment_id  Vehicle_make_id vehicle make  Vehicle_model_id  \\\n",
       "0             56               24        Honda               246   \n",
       "1             56               24        Honda               246   \n",
       "2             56               24        Honda               246   \n",
       "3             56               24        Honda               246   \n",
       "4             56               24        Honda               246   \n",
       "\n",
       "  vehicle model  model_code_id model code  part/service_id  category_id  \\\n",
       "0          CR-V           5346    DBA-RM4             1683            1   \n",
       "1          CR-V           5346    DBA-RM4             1311            1   \n",
       "2          CR-V           5346    DBA-RM4               48            1   \n",
       "3          CR-V           5346    DBA-RM4               99            1   \n",
       "4          CR-V           5346    DBA-RM4             1151            1   \n",
       "\n",
       "  category  ... fix type  damage_id     damage estimated_repair_days  \\\n",
       "0     Body  ...  replace          1  Scratched                     4   \n",
       "1     Body  ...   repair         11     Broken                     4   \n",
       "2     Body  ...  replace          1  Scratched                     4   \n",
       "3     Body  ...   repair          4    Buckled                     4   \n",
       "4     Body  ...   repair          9       Bent                     4   \n",
       "\n",
       "  for_painting paint_type_id  paint type panels_to_paint  \\\n",
       "0           no             -           -             NaN   \n",
       "1           no             -           -             NaN   \n",
       "2          yes             1    Metallic             4.0   \n",
       "3          yes             1    Metallic             4.0   \n",
       "4           no             -           -             NaN   \n",
       "\n",
       "  unit_price (vat incl. 16%)             date  \n",
       "0                        NaN  10/23/2023 8:36  \n",
       "1                     9280.0  10/23/2023 8:36  \n",
       "2                        NaN  10/23/2023 8:36  \n",
       "3                   139200.0  10/23/2023 8:36  \n",
       "4                     5800.0  10/23/2023 8:36  \n",
       "\n",
       "[5 rows x 28 columns]"
      ]
     },
     "execution_count": 179,
     "metadata": {},
     "output_type": "execute_result"
    }
   ],
   "source": [
    "clean_df.head()"
   ]
  },
  {
   "cell_type": "code",
   "execution_count": 180,
   "id": "4135edf1",
   "metadata": {},
   "outputs": [],
   "source": [
    "# Remove leading/trailing whitespace from all column names\n",
    "clean_df.columns = clean_df.columns.str.strip()"
   ]
  },
  {
   "cell_type": "code",
   "execution_count": 181,
   "id": "d978f07b",
   "metadata": {},
   "outputs": [
    {
     "data": {
      "application/vnd.microsoft.datawrangler.viewer.v0+json": {
       "columns": [
        {
         "name": "index",
         "rawType": "object",
         "type": "string"
        },
        {
         "name": "0",
         "rawType": "object",
         "type": "unknown"
        }
       ],
       "ref": "da0e8a07-efff-4cf0-92c3-d0db4cbd5104",
       "rows": [
        [
         "assessment_id",
         "int64"
        ],
        [
         "Vehicle_make_id",
         "int64"
        ],
        [
         "vehicle make",
         "object"
        ],
        [
         "Vehicle_model_id",
         "int64"
        ],
        [
         "vehicle model",
         "object"
        ],
        [
         "model_code_id",
         "int64"
        ],
        [
         "model code",
         "object"
        ],
        [
         "part/service_id",
         "int64"
        ],
        [
         "category_id",
         "int64"
        ],
        [
         "category",
         "object"
        ],
        [
         "part or service",
         "object"
        ],
        [
         "pervice_provider_id",
         "float64"
        ],
        [
         "part_condition_id",
         "int64"
        ],
        [
         "part condition",
         "object"
        ],
        [
         "part_type_id",
         "object"
        ],
        [
         "part type",
         "object"
        ],
        [
         "quantity",
         "int64"
        ],
        [
         "fix_type_id",
         "object"
        ],
        [
         "fix type",
         "object"
        ],
        [
         "damage_id",
         "object"
        ],
        [
         "damage",
         "object"
        ],
        [
         "estimated_repair_days",
         "int64"
        ],
        [
         "for_painting",
         "object"
        ],
        [
         "paint_type_id",
         "object"
        ],
        [
         "paint type",
         "object"
        ],
        [
         "panels_to_paint",
         "float64"
        ],
        [
         "unit_price (vat incl. 16%)",
         "float64"
        ],
        [
         "date",
         "object"
        ]
       ],
       "shape": {
        "columns": 1,
        "rows": 28
       }
      },
      "text/plain": [
       "assessment_id                   int64\n",
       "Vehicle_make_id                 int64\n",
       "vehicle make                   object\n",
       "Vehicle_model_id                int64\n",
       "vehicle model                  object\n",
       "model_code_id                   int64\n",
       "model code                     object\n",
       "part/service_id                 int64\n",
       "category_id                     int64\n",
       "category                       object\n",
       "part or service                object\n",
       "pervice_provider_id           float64\n",
       "part_condition_id               int64\n",
       "part condition                 object\n",
       "part_type_id                   object\n",
       "part type                      object\n",
       "quantity                        int64\n",
       "fix_type_id                    object\n",
       "fix type                       object\n",
       "damage_id                      object\n",
       "damage                         object\n",
       "estimated_repair_days           int64\n",
       "for_painting                   object\n",
       "paint_type_id                  object\n",
       "paint type                     object\n",
       "panels_to_paint               float64\n",
       "unit_price (vat incl. 16%)    float64\n",
       "date                           object\n",
       "dtype: object"
      ]
     },
     "execution_count": 181,
     "metadata": {},
     "output_type": "execute_result"
    }
   ],
   "source": [
    "clean_df.dtypes"
   ]
  },
  {
   "cell_type": "code",
   "execution_count": 182,
   "id": "cbef8781",
   "metadata": {},
   "outputs": [],
   "source": [
    "#converting th id's to strings\n",
    "clean_df['Vehicle_make_id'] = clean_df['Vehicle_make_id'].astype('string')\n",
    "clean_df['Vehicle_model_id'] = clean_df['Vehicle_model_id'].astype('string')\n",
    "clean_df['model_code_id'] = clean_df['model_code_id'].astype('string')\n",
    "clean_df['part/service_id'] = clean_df['part/service_id'].astype('string')\n",
    "clean_df['pervice_provider_id'] = clean_df['pervice_provider_id'].astype('string')\n",
    "clean_df['part_condition_id'] = clean_df['part_condition_id'].astype('string')\n",
    "clean_df['part_type_id'] = clean_df['part_type_id'].astype('string')\n",
    "clean_df['fix_type_id'] = clean_df['fix_type_id'].astype('string')\n",
    "clean_df['paint_type_id'] = clean_df['paint_type_id'].astype('string')\n",
    "clean_df['damage_id'] = clean_df['damage_id'].astype('string')\n",
    "clean_df['category_id'] = clean_df['category_id'].astype('string')\n"
   ]
  },
  {
   "cell_type": "code",
   "execution_count": null,
   "id": "616a4332",
   "metadata": {},
   "outputs": [],
   "source": []
  },
  {
   "cell_type": "code",
   "execution_count": 183,
   "id": "9f6f01ca",
   "metadata": {},
   "outputs": [
    {
     "data": {
      "application/vnd.microsoft.datawrangler.viewer.v0+json": {
       "columns": [
        {
         "name": "index",
         "rawType": "object",
         "type": "string"
        },
        {
         "name": "0",
         "rawType": "object",
         "type": "unknown"
        }
       ],
       "ref": "32fbcd7f-64db-435c-bc3d-52527f893f48",
       "rows": [
        [
         "assessment_id",
         "int64"
        ],
        [
         "Vehicle_make_id",
         "string"
        ],
        [
         "vehicle make",
         "object"
        ],
        [
         "Vehicle_model_id",
         "string"
        ],
        [
         "vehicle model",
         "object"
        ],
        [
         "model_code_id",
         "string"
        ],
        [
         "model code",
         "object"
        ],
        [
         "part/service_id",
         "string"
        ],
        [
         "category_id",
         "string"
        ],
        [
         "category",
         "object"
        ],
        [
         "part or service",
         "object"
        ],
        [
         "pervice_provider_id",
         "string"
        ],
        [
         "part_condition_id",
         "string"
        ],
        [
         "part condition",
         "object"
        ],
        [
         "part_type_id",
         "string"
        ],
        [
         "part type",
         "object"
        ],
        [
         "quantity",
         "int64"
        ],
        [
         "fix_type_id",
         "string"
        ],
        [
         "fix type",
         "object"
        ],
        [
         "damage_id",
         "string"
        ],
        [
         "damage",
         "object"
        ],
        [
         "estimated_repair_days",
         "int64"
        ],
        [
         "for_painting",
         "object"
        ],
        [
         "paint_type_id",
         "string"
        ],
        [
         "paint type",
         "object"
        ],
        [
         "panels_to_paint",
         "float64"
        ],
        [
         "unit_price (vat incl. 16%)",
         "float64"
        ],
        [
         "date",
         "object"
        ]
       ],
       "shape": {
        "columns": 1,
        "rows": 28
       }
      },
      "text/plain": [
       "assessment_id                          int64\n",
       "Vehicle_make_id               string[python]\n",
       "vehicle make                          object\n",
       "Vehicle_model_id              string[python]\n",
       "vehicle model                         object\n",
       "model_code_id                 string[python]\n",
       "model code                            object\n",
       "part/service_id               string[python]\n",
       "category_id                   string[python]\n",
       "category                              object\n",
       "part or service                       object\n",
       "pervice_provider_id           string[python]\n",
       "part_condition_id             string[python]\n",
       "part condition                        object\n",
       "part_type_id                  string[python]\n",
       "part type                             object\n",
       "quantity                               int64\n",
       "fix_type_id                   string[python]\n",
       "fix type                              object\n",
       "damage_id                     string[python]\n",
       "damage                                object\n",
       "estimated_repair_days                  int64\n",
       "for_painting                          object\n",
       "paint_type_id                 string[python]\n",
       "paint type                            object\n",
       "panels_to_paint                      float64\n",
       "unit_price (vat incl. 16%)           float64\n",
       "date                                  object\n",
       "dtype: object"
      ]
     },
     "execution_count": 183,
     "metadata": {},
     "output_type": "execute_result"
    }
   ],
   "source": [
    "clean_df.dtypes"
   ]
  },
  {
   "cell_type": "code",
   "execution_count": 184,
   "id": "07901486",
   "metadata": {},
   "outputs": [],
   "source": [
    "#changing the data type of the date columns to datetime\n",
    "clean_df['date'] = pd.to_datetime(clean_df['date'])"
   ]
  },
  {
   "cell_type": "markdown",
   "id": "80c7df27",
   "metadata": {},
   "source": [
    "- We drop the Vehicle make column as it has just one distinct value"
   ]
  },
  {
   "cell_type": "code",
   "execution_count": 185,
   "id": "dc4ccd91",
   "metadata": {},
   "outputs": [],
   "source": [
    "#dropping the vehicle_make and vehicle_make_id columns as they have just one distinct value\n",
    "clean_df.columns = clean_df.columns.str.lower().str.strip().str.replace(' ', '_')\n",
    "clean_df = clean_df.drop(columns=['vehicle_make', 'vehicle_make_id'])\n"
   ]
  },
  {
   "cell_type": "markdown",
   "id": "9b46e1ee",
   "metadata": {},
   "source": [
    "- Dropping the id columns while maintaining the description columns to have smaller yet concise data set"
   ]
  },
  {
   "cell_type": "code",
   "execution_count": 186,
   "id": "74a85c9d",
   "metadata": {},
   "outputs": [
    {
     "data": {
      "application/vnd.microsoft.datawrangler.viewer.v0+json": {
       "columns": [
        {
         "name": "index",
         "rawType": "int64",
         "type": "integer"
        },
        {
         "name": "assessment_id",
         "rawType": "int64",
         "type": "integer"
        },
        {
         "name": "vehicle_model",
         "rawType": "object",
         "type": "string"
        },
        {
         "name": "model_code",
         "rawType": "object",
         "type": "string"
        },
        {
         "name": "category",
         "rawType": "object",
         "type": "string"
        },
        {
         "name": "part_or_service",
         "rawType": "object",
         "type": "string"
        },
        {
         "name": "pervice_provider_id",
         "rawType": "string",
         "type": "string"
        },
        {
         "name": "part_condition",
         "rawType": "object",
         "type": "string"
        },
        {
         "name": "part_type",
         "rawType": "object",
         "type": "string"
        },
        {
         "name": "quantity",
         "rawType": "int64",
         "type": "integer"
        },
        {
         "name": "fix_type",
         "rawType": "object",
         "type": "string"
        },
        {
         "name": "damage",
         "rawType": "object",
         "type": "string"
        },
        {
         "name": "estimated_repair_days",
         "rawType": "int64",
         "type": "integer"
        },
        {
         "name": "for_painting",
         "rawType": "object",
         "type": "string"
        },
        {
         "name": "paint_type",
         "rawType": "object",
         "type": "string"
        },
        {
         "name": "panels_to_paint",
         "rawType": "float64",
         "type": "float"
        },
        {
         "name": "unit_price_(vat_incl._16%)",
         "rawType": "float64",
         "type": "float"
        },
        {
         "name": "date",
         "rawType": "datetime64[ns]",
         "type": "datetime"
        }
       ],
       "ref": "57f09cfc-db61-43e8-9f64-82189bfdec96",
       "rows": [
        [
         "0",
         "56",
         "CR-V",
         "DBA-RM4",
         "Body",
         "Boot Catch Panel",
         "44.0",
         "-",
         "-",
         "1",
         "replace",
         "Scratched",
         "4",
         "no",
         "-",
         null,
         null,
         "2023-10-23 08:36:00"
        ],
        [
         "1",
         "56",
         "CR-V",
         "DBA-RM4",
         "Body",
         "LHR Wheel Arch Moulding",
         "44.0",
         "used",
         "Dealer/OEM",
         "1",
         "repair",
         "Broken",
         "4",
         "no",
         "-",
         null,
         "9280.0",
         "2023-10-23 08:36:00"
        ],
        [
         "2",
         "56",
         "CR-V",
         "DBA-RM4",
         "Body",
         "LHS Rear Wing",
         "44.0",
         "-",
         "-",
         "1",
         "replace",
         "Scratched",
         "4",
         "yes",
         "Metallic",
         "4.0",
         null,
         "2023-10-23 08:36:00"
        ],
        [
         "3",
         "56",
         "CR-V",
         "DBA-RM4",
         "Body",
         "Tailgate Assembly",
         "81.0",
         "used",
         "Dealer/OEM",
         "1",
         "repair",
         "Buckled",
         "4",
         "yes",
         "Metallic",
         "4.0",
         "139200.0",
         "2023-10-23 08:36:00"
        ],
        [
         "4",
         "56",
         "CR-V",
         "DBA-RM4",
         "Body",
         "Tailgate Shocks",
         "44.0",
         "used",
         "Dealer/OEM",
         "1",
         "repair",
         "Bent",
         "4",
         "no",
         "-",
         null,
         "5800.0",
         "2023-10-23 08:36:00"
        ]
       ],
       "shape": {
        "columns": 17,
        "rows": 5
       }
      },
      "text/html": [
       "<div>\n",
       "<style scoped>\n",
       "    .dataframe tbody tr th:only-of-type {\n",
       "        vertical-align: middle;\n",
       "    }\n",
       "\n",
       "    .dataframe tbody tr th {\n",
       "        vertical-align: top;\n",
       "    }\n",
       "\n",
       "    .dataframe thead th {\n",
       "        text-align: right;\n",
       "    }\n",
       "</style>\n",
       "<table border=\"1\" class=\"dataframe\">\n",
       "  <thead>\n",
       "    <tr style=\"text-align: right;\">\n",
       "      <th></th>\n",
       "      <th>assessment_id</th>\n",
       "      <th>vehicle_model</th>\n",
       "      <th>model_code</th>\n",
       "      <th>category</th>\n",
       "      <th>part_or_service</th>\n",
       "      <th>pervice_provider_id</th>\n",
       "      <th>part_condition</th>\n",
       "      <th>part_type</th>\n",
       "      <th>quantity</th>\n",
       "      <th>fix_type</th>\n",
       "      <th>damage</th>\n",
       "      <th>estimated_repair_days</th>\n",
       "      <th>for_painting</th>\n",
       "      <th>paint_type</th>\n",
       "      <th>panels_to_paint</th>\n",
       "      <th>unit_price_(vat_incl._16%)</th>\n",
       "      <th>date</th>\n",
       "    </tr>\n",
       "  </thead>\n",
       "  <tbody>\n",
       "    <tr>\n",
       "      <th>0</th>\n",
       "      <td>56</td>\n",
       "      <td>CR-V</td>\n",
       "      <td>DBA-RM4</td>\n",
       "      <td>Body</td>\n",
       "      <td>Boot Catch Panel</td>\n",
       "      <td>44.0</td>\n",
       "      <td>-</td>\n",
       "      <td>-</td>\n",
       "      <td>1</td>\n",
       "      <td>replace</td>\n",
       "      <td>Scratched</td>\n",
       "      <td>4</td>\n",
       "      <td>no</td>\n",
       "      <td>-</td>\n",
       "      <td>NaN</td>\n",
       "      <td>NaN</td>\n",
       "      <td>2023-10-23 08:36:00</td>\n",
       "    </tr>\n",
       "    <tr>\n",
       "      <th>1</th>\n",
       "      <td>56</td>\n",
       "      <td>CR-V</td>\n",
       "      <td>DBA-RM4</td>\n",
       "      <td>Body</td>\n",
       "      <td>LHR Wheel Arch Moulding</td>\n",
       "      <td>44.0</td>\n",
       "      <td>used</td>\n",
       "      <td>Dealer/OEM</td>\n",
       "      <td>1</td>\n",
       "      <td>repair</td>\n",
       "      <td>Broken</td>\n",
       "      <td>4</td>\n",
       "      <td>no</td>\n",
       "      <td>-</td>\n",
       "      <td>NaN</td>\n",
       "      <td>9280.0</td>\n",
       "      <td>2023-10-23 08:36:00</td>\n",
       "    </tr>\n",
       "    <tr>\n",
       "      <th>2</th>\n",
       "      <td>56</td>\n",
       "      <td>CR-V</td>\n",
       "      <td>DBA-RM4</td>\n",
       "      <td>Body</td>\n",
       "      <td>LHS Rear Wing</td>\n",
       "      <td>44.0</td>\n",
       "      <td>-</td>\n",
       "      <td>-</td>\n",
       "      <td>1</td>\n",
       "      <td>replace</td>\n",
       "      <td>Scratched</td>\n",
       "      <td>4</td>\n",
       "      <td>yes</td>\n",
       "      <td>Metallic</td>\n",
       "      <td>4.0</td>\n",
       "      <td>NaN</td>\n",
       "      <td>2023-10-23 08:36:00</td>\n",
       "    </tr>\n",
       "    <tr>\n",
       "      <th>3</th>\n",
       "      <td>56</td>\n",
       "      <td>CR-V</td>\n",
       "      <td>DBA-RM4</td>\n",
       "      <td>Body</td>\n",
       "      <td>Tailgate Assembly</td>\n",
       "      <td>81.0</td>\n",
       "      <td>used</td>\n",
       "      <td>Dealer/OEM</td>\n",
       "      <td>1</td>\n",
       "      <td>repair</td>\n",
       "      <td>Buckled</td>\n",
       "      <td>4</td>\n",
       "      <td>yes</td>\n",
       "      <td>Metallic</td>\n",
       "      <td>4.0</td>\n",
       "      <td>139200.0</td>\n",
       "      <td>2023-10-23 08:36:00</td>\n",
       "    </tr>\n",
       "    <tr>\n",
       "      <th>4</th>\n",
       "      <td>56</td>\n",
       "      <td>CR-V</td>\n",
       "      <td>DBA-RM4</td>\n",
       "      <td>Body</td>\n",
       "      <td>Tailgate Shocks</td>\n",
       "      <td>44.0</td>\n",
       "      <td>used</td>\n",
       "      <td>Dealer/OEM</td>\n",
       "      <td>1</td>\n",
       "      <td>repair</td>\n",
       "      <td>Bent</td>\n",
       "      <td>4</td>\n",
       "      <td>no</td>\n",
       "      <td>-</td>\n",
       "      <td>NaN</td>\n",
       "      <td>5800.0</td>\n",
       "      <td>2023-10-23 08:36:00</td>\n",
       "    </tr>\n",
       "  </tbody>\n",
       "</table>\n",
       "</div>"
      ],
      "text/plain": [
       "   assessment_id vehicle_model model_code category          part_or_service  \\\n",
       "0             56          CR-V    DBA-RM4     Body         Boot Catch Panel   \n",
       "1             56          CR-V    DBA-RM4     Body  LHR Wheel Arch Moulding   \n",
       "2             56          CR-V    DBA-RM4     Body            LHS Rear Wing   \n",
       "3             56          CR-V    DBA-RM4     Body        Tailgate Assembly   \n",
       "4             56          CR-V    DBA-RM4     Body          Tailgate Shocks   \n",
       "\n",
       "  pervice_provider_id part_condition   part_type  quantity fix_type  \\\n",
       "0                44.0              -           -         1  replace   \n",
       "1                44.0           used  Dealer/OEM         1   repair   \n",
       "2                44.0              -           -         1  replace   \n",
       "3                81.0           used  Dealer/OEM         1   repair   \n",
       "4                44.0           used  Dealer/OEM         1   repair   \n",
       "\n",
       "      damage  estimated_repair_days for_painting paint_type  panels_to_paint  \\\n",
       "0  Scratched                      4           no          -              NaN   \n",
       "1     Broken                      4           no          -              NaN   \n",
       "2  Scratched                      4          yes   Metallic              4.0   \n",
       "3    Buckled                      4          yes   Metallic              4.0   \n",
       "4       Bent                      4           no          -              NaN   \n",
       "\n",
       "   unit_price_(vat_incl._16%)                date  \n",
       "0                         NaN 2023-10-23 08:36:00  \n",
       "1                      9280.0 2023-10-23 08:36:00  \n",
       "2                         NaN 2023-10-23 08:36:00  \n",
       "3                    139200.0 2023-10-23 08:36:00  \n",
       "4                      5800.0 2023-10-23 08:36:00  "
      ]
     },
     "execution_count": 186,
     "metadata": {},
     "output_type": "execute_result"
    }
   ],
   "source": [
    "#dropping the id columns\n",
    "clean_df = clean_df.drop(columns=['vehicle_model_id', 'model_code_id', 'part/service_id', 'part_condition_id', 'part_type_id', 'fix_type_id', 'paint_type_id', 'damage_id', 'category_id'])\n",
    "clean_df.head()\n"
   ]
  },
  {
   "cell_type": "code",
   "execution_count": 187,
   "id": "db95d982",
   "metadata": {},
   "outputs": [
    {
     "data": {
      "application/vnd.microsoft.datawrangler.viewer.v0+json": {
       "columns": [
        {
         "name": "index",
         "rawType": "int64",
         "type": "integer"
        },
        {
         "name": "assessment_id",
         "rawType": "int64",
         "type": "integer"
        },
        {
         "name": "vehicle_model",
         "rawType": "object",
         "type": "string"
        },
        {
         "name": "model_code",
         "rawType": "object",
         "type": "string"
        },
        {
         "name": "category",
         "rawType": "object",
         "type": "string"
        },
        {
         "name": "part_or_service",
         "rawType": "object",
         "type": "string"
        },
        {
         "name": "pervice_provider_id",
         "rawType": "string",
         "type": "string"
        },
        {
         "name": "part_condition",
         "rawType": "object",
         "type": "string"
        },
        {
         "name": "part_type",
         "rawType": "object",
         "type": "string"
        },
        {
         "name": "quantity",
         "rawType": "int64",
         "type": "integer"
        },
        {
         "name": "fix_type",
         "rawType": "object",
         "type": "string"
        },
        {
         "name": "damage",
         "rawType": "object",
         "type": "string"
        },
        {
         "name": "estimated_repair_days",
         "rawType": "int64",
         "type": "integer"
        },
        {
         "name": "for_painting",
         "rawType": "object",
         "type": "string"
        },
        {
         "name": "paint_type",
         "rawType": "object",
         "type": "string"
        },
        {
         "name": "panels_to_paint",
         "rawType": "float64",
         "type": "float"
        },
        {
         "name": "unit_price_(vat_incl._16%)",
         "rawType": "float64",
         "type": "float"
        },
        {
         "name": "date",
         "rawType": "datetime64[ns]",
         "type": "datetime"
        }
       ],
       "ref": "7d369541-776e-448e-9bb9-6fed2c2e1426",
       "rows": [
        [
         "0",
         "56",
         "CR-V",
         "DBA-RM4",
         "Body",
         "Boot Catch Panel",
         "44.0",
         "-",
         "-",
         "1",
         "replace",
         "Scratched",
         "4",
         "no",
         "-",
         null,
         null,
         "2023-10-23 08:36:00"
        ],
        [
         "1",
         "56",
         "CR-V",
         "DBA-RM4",
         "Body",
         "LHR Wheel Arch Moulding",
         "44.0",
         "used",
         "Dealer/OEM",
         "1",
         "repair",
         "Broken",
         "4",
         "no",
         "-",
         null,
         "9280.0",
         "2023-10-23 08:36:00"
        ],
        [
         "2",
         "56",
         "CR-V",
         "DBA-RM4",
         "Body",
         "LHS Rear Wing",
         "44.0",
         "-",
         "-",
         "1",
         "replace",
         "Scratched",
         "4",
         "yes",
         "Metallic",
         "4.0",
         null,
         "2023-10-23 08:36:00"
        ],
        [
         "3",
         "56",
         "CR-V",
         "DBA-RM4",
         "Body",
         "Tailgate Assembly",
         "81.0",
         "used",
         "Dealer/OEM",
         "1",
         "repair",
         "Buckled",
         "4",
         "yes",
         "Metallic",
         "4.0",
         "139200.0",
         "2023-10-23 08:36:00"
        ],
        [
         "4",
         "56",
         "CR-V",
         "DBA-RM4",
         "Body",
         "Tailgate Shocks",
         "44.0",
         "used",
         "Dealer/OEM",
         "1",
         "repair",
         "Bent",
         "4",
         "no",
         "-",
         null,
         "5800.0",
         "2023-10-23 08:36:00"
        ]
       ],
       "shape": {
        "columns": 17,
        "rows": 5
       }
      },
      "text/html": [
       "<div>\n",
       "<style scoped>\n",
       "    .dataframe tbody tr th:only-of-type {\n",
       "        vertical-align: middle;\n",
       "    }\n",
       "\n",
       "    .dataframe tbody tr th {\n",
       "        vertical-align: top;\n",
       "    }\n",
       "\n",
       "    .dataframe thead th {\n",
       "        text-align: right;\n",
       "    }\n",
       "</style>\n",
       "<table border=\"1\" class=\"dataframe\">\n",
       "  <thead>\n",
       "    <tr style=\"text-align: right;\">\n",
       "      <th></th>\n",
       "      <th>assessment_id</th>\n",
       "      <th>vehicle_model</th>\n",
       "      <th>model_code</th>\n",
       "      <th>category</th>\n",
       "      <th>part_or_service</th>\n",
       "      <th>pervice_provider_id</th>\n",
       "      <th>part_condition</th>\n",
       "      <th>part_type</th>\n",
       "      <th>quantity</th>\n",
       "      <th>fix_type</th>\n",
       "      <th>damage</th>\n",
       "      <th>estimated_repair_days</th>\n",
       "      <th>for_painting</th>\n",
       "      <th>paint_type</th>\n",
       "      <th>panels_to_paint</th>\n",
       "      <th>unit_price_(vat_incl._16%)</th>\n",
       "      <th>date</th>\n",
       "    </tr>\n",
       "  </thead>\n",
       "  <tbody>\n",
       "    <tr>\n",
       "      <th>0</th>\n",
       "      <td>56</td>\n",
       "      <td>CR-V</td>\n",
       "      <td>DBA-RM4</td>\n",
       "      <td>Body</td>\n",
       "      <td>Boot Catch Panel</td>\n",
       "      <td>44.0</td>\n",
       "      <td>-</td>\n",
       "      <td>-</td>\n",
       "      <td>1</td>\n",
       "      <td>replace</td>\n",
       "      <td>Scratched</td>\n",
       "      <td>4</td>\n",
       "      <td>no</td>\n",
       "      <td>-</td>\n",
       "      <td>NaN</td>\n",
       "      <td>NaN</td>\n",
       "      <td>2023-10-23 08:36:00</td>\n",
       "    </tr>\n",
       "    <tr>\n",
       "      <th>1</th>\n",
       "      <td>56</td>\n",
       "      <td>CR-V</td>\n",
       "      <td>DBA-RM4</td>\n",
       "      <td>Body</td>\n",
       "      <td>LHR Wheel Arch Moulding</td>\n",
       "      <td>44.0</td>\n",
       "      <td>used</td>\n",
       "      <td>Dealer/OEM</td>\n",
       "      <td>1</td>\n",
       "      <td>repair</td>\n",
       "      <td>Broken</td>\n",
       "      <td>4</td>\n",
       "      <td>no</td>\n",
       "      <td>-</td>\n",
       "      <td>NaN</td>\n",
       "      <td>9280.0</td>\n",
       "      <td>2023-10-23 08:36:00</td>\n",
       "    </tr>\n",
       "    <tr>\n",
       "      <th>2</th>\n",
       "      <td>56</td>\n",
       "      <td>CR-V</td>\n",
       "      <td>DBA-RM4</td>\n",
       "      <td>Body</td>\n",
       "      <td>LHS Rear Wing</td>\n",
       "      <td>44.0</td>\n",
       "      <td>-</td>\n",
       "      <td>-</td>\n",
       "      <td>1</td>\n",
       "      <td>replace</td>\n",
       "      <td>Scratched</td>\n",
       "      <td>4</td>\n",
       "      <td>yes</td>\n",
       "      <td>Metallic</td>\n",
       "      <td>4.0</td>\n",
       "      <td>NaN</td>\n",
       "      <td>2023-10-23 08:36:00</td>\n",
       "    </tr>\n",
       "    <tr>\n",
       "      <th>3</th>\n",
       "      <td>56</td>\n",
       "      <td>CR-V</td>\n",
       "      <td>DBA-RM4</td>\n",
       "      <td>Body</td>\n",
       "      <td>Tailgate Assembly</td>\n",
       "      <td>81.0</td>\n",
       "      <td>used</td>\n",
       "      <td>Dealer/OEM</td>\n",
       "      <td>1</td>\n",
       "      <td>repair</td>\n",
       "      <td>Buckled</td>\n",
       "      <td>4</td>\n",
       "      <td>yes</td>\n",
       "      <td>Metallic</td>\n",
       "      <td>4.0</td>\n",
       "      <td>139200.0</td>\n",
       "      <td>2023-10-23 08:36:00</td>\n",
       "    </tr>\n",
       "    <tr>\n",
       "      <th>4</th>\n",
       "      <td>56</td>\n",
       "      <td>CR-V</td>\n",
       "      <td>DBA-RM4</td>\n",
       "      <td>Body</td>\n",
       "      <td>Tailgate Shocks</td>\n",
       "      <td>44.0</td>\n",
       "      <td>used</td>\n",
       "      <td>Dealer/OEM</td>\n",
       "      <td>1</td>\n",
       "      <td>repair</td>\n",
       "      <td>Bent</td>\n",
       "      <td>4</td>\n",
       "      <td>no</td>\n",
       "      <td>-</td>\n",
       "      <td>NaN</td>\n",
       "      <td>5800.0</td>\n",
       "      <td>2023-10-23 08:36:00</td>\n",
       "    </tr>\n",
       "  </tbody>\n",
       "</table>\n",
       "</div>"
      ],
      "text/plain": [
       "   assessment_id vehicle_model model_code category          part_or_service  \\\n",
       "0             56          CR-V    DBA-RM4     Body         Boot Catch Panel   \n",
       "1             56          CR-V    DBA-RM4     Body  LHR Wheel Arch Moulding   \n",
       "2             56          CR-V    DBA-RM4     Body            LHS Rear Wing   \n",
       "3             56          CR-V    DBA-RM4     Body        Tailgate Assembly   \n",
       "4             56          CR-V    DBA-RM4     Body          Tailgate Shocks   \n",
       "\n",
       "  pervice_provider_id part_condition   part_type  quantity fix_type  \\\n",
       "0                44.0              -           -         1  replace   \n",
       "1                44.0           used  Dealer/OEM         1   repair   \n",
       "2                44.0              -           -         1  replace   \n",
       "3                81.0           used  Dealer/OEM         1   repair   \n",
       "4                44.0           used  Dealer/OEM         1   repair   \n",
       "\n",
       "      damage  estimated_repair_days for_painting paint_type  panels_to_paint  \\\n",
       "0  Scratched                      4           no          -              NaN   \n",
       "1     Broken                      4           no          -              NaN   \n",
       "2  Scratched                      4          yes   Metallic              4.0   \n",
       "3    Buckled                      4          yes   Metallic              4.0   \n",
       "4       Bent                      4           no          -              NaN   \n",
       "\n",
       "   unit_price_(vat_incl._16%)                date  \n",
       "0                         NaN 2023-10-23 08:36:00  \n",
       "1                      9280.0 2023-10-23 08:36:00  \n",
       "2                         NaN 2023-10-23 08:36:00  \n",
       "3                    139200.0 2023-10-23 08:36:00  \n",
       "4                      5800.0 2023-10-23 08:36:00  "
      ]
     },
     "execution_count": 187,
     "metadata": {},
     "output_type": "execute_result"
    }
   ],
   "source": [
    "clean_df.head()"
   ]
  },
  {
   "cell_type": "code",
   "execution_count": 188,
   "id": "487219c5",
   "metadata": {},
   "outputs": [],
   "source": [
    "#drop duplicate rows\n",
    "clean_df = clean_df.drop_duplicates()\n"
   ]
  },
  {
   "cell_type": "code",
   "execution_count": 189,
   "id": "8324de61",
   "metadata": {},
   "outputs": [
    {
     "data": {
      "text/plain": [
       "array(['DBA-RM4', 'DBA-CR1', 'DBA-RE4', 'DBA-RN6', 'DBA-GK3', 'DBA-GE6',\n",
       "       'DAA-RU3', '125', 'DBA-RM1', 'DBA-GB3', 'DBA-RB1', 'DAA-GPI',\n",
       "       'DAA-GM6'], dtype=object)"
      ]
     },
     "execution_count": 189,
     "metadata": {},
     "output_type": "execute_result"
    }
   ],
   "source": [
    "clean_df['model_code'].unique()"
   ]
  },
  {
   "cell_type": "code",
   "execution_count": 190,
   "id": "add50bd6",
   "metadata": {},
   "outputs": [
    {
     "name": "stdout",
     "output_type": "stream",
     "text": [
      "model_code\n",
      "DBA-RM4    18027.777778\n",
      "DAA-RU3    16561.676957\n",
      "DBA-RM1    16488.484848\n",
      "DBA-RB1    15358.428571\n",
      "DBA-GB3    12400.000000\n",
      "DBA-RE4    11207.222222\n",
      "DBA-RN6    10141.909091\n",
      "DBA-GE6     9946.764706\n",
      "DAA-GM6     9481.142857\n",
      "DAA-GPI     9110.588235\n",
      "DBA-CR1     7593.750000\n",
      "DBA-GK3     7503.157895\n",
      "125         1517.090909\n",
      "Name: unit_price_(vat_incl._16%), dtype: float64\n"
     ]
    }
   ],
   "source": [
    "# Median price by category\n",
    "price_by_model_code = clean_df.groupby('model_code')['unit_price_(vat_incl._16%)'].mean().sort_values(ascending=False)\n",
    "print(price_by_model_code)\n"
   ]
  },
  {
   "cell_type": "code",
   "execution_count": 191,
   "id": "c815e9c2",
   "metadata": {},
   "outputs": [
    {
     "name": "stderr",
     "output_type": "stream",
     "text": [
      "C:\\Users\\Admin\\AppData\\Local\\Temp\\ipykernel_26420\\3949844795.py:3: FutureWarning: \n",
      "\n",
      "Passing `palette` without assigning `hue` is deprecated and will be removed in v0.14.0. Assign the `x` variable to `hue` and set `legend=False` for the same effect.\n",
      "\n",
      "  sns.boxplot(data=clean_df, x='model_code', y='unit_price_(vat_incl._16%)', palette='Set2')\n"
     ]
    },
    {
     "data": {
      "image/png": "[encoded data removed]",
      "text/plain": [
       "<Figure size 1200x600 with 1 Axes>"
      ]
     },
     "metadata": {},
     "output_type": "display_data"
    }
   ],
   "source": [
    "# Plotting the price distribution by model_code, using a boxplot to visualize the spread and outliers\n",
    "plt.figure(figsize=(12, 6))\n",
    "sns.boxplot(data=clean_df, x='model_code', y='unit_price_(vat_incl._16%)', palette='Set2')\n",
    "plt.xticks(rotation=45)\n",
    "plt.title('Price Distribution by model_code')\n",
    "plt.show()\n"
   ]
  },
  {
   "cell_type": "code",
   "execution_count": 192,
   "id": "833743e8",
   "metadata": {},
   "outputs": [
    {
     "data": {
      "application/vnd.microsoft.datawrangler.viewer.v0+json": {
       "columns": [
        {
         "name": "index",
         "rawType": "int64",
         "type": "integer"
        },
        {
         "name": "assessment_id",
         "rawType": "int64",
         "type": "integer"
        },
        {
         "name": "vehicle_model",
         "rawType": "object",
         "type": "string"
        },
        {
         "name": "model_code",
         "rawType": "object",
         "type": "string"
        },
        {
         "name": "category",
         "rawType": "object",
         "type": "string"
        },
        {
         "name": "part_or_service",
         "rawType": "object",
         "type": "string"
        },
        {
         "name": "pervice_provider_id",
         "rawType": "string",
         "type": "string"
        },
        {
         "name": "part_condition",
         "rawType": "object",
         "type": "string"
        },
        {
         "name": "part_type",
         "rawType": "object",
         "type": "string"
        },
        {
         "name": "quantity",
         "rawType": "int64",
         "type": "integer"
        },
        {
         "name": "fix_type",
         "rawType": "object",
         "type": "string"
        },
        {
         "name": "damage",
         "rawType": "object",
         "type": "string"
        },
        {
         "name": "estimated_repair_days",
         "rawType": "int64",
         "type": "integer"
        },
        {
         "name": "for_painting",
         "rawType": "object",
         "type": "string"
        },
        {
         "name": "paint_type",
         "rawType": "object",
         "type": "string"
        },
        {
         "name": "panels_to_paint",
         "rawType": "float64",
         "type": "float"
        },
        {
         "name": "unit_price_(vat_incl._16%)",
         "rawType": "float64",
         "type": "float"
        },
        {
         "name": "date",
         "rawType": "datetime64[ns]",
         "type": "datetime"
        }
       ],
       "ref": "e91fd309-9d32-48cf-a0ef-7025e5c88925",
       "rows": [
        [
         "0",
         "56",
         "CR-V",
         "DBA-RM4",
         "Body",
         "Boot Catch Panel",
         "44.0",
         "-",
         "-",
         "1",
         "replace",
         "Scratched",
         "4",
         "no",
         "-",
         null,
         null,
         "2023-10-23 08:36:00"
        ],
        [
         "1",
         "56",
         "CR-V",
         "DBA-RM4",
         "Body",
         "LHR Wheel Arch Moulding",
         "44.0",
         "used",
         "Dealer/OEM",
         "1",
         "repair",
         "Broken",
         "4",
         "no",
         "-",
         null,
         "9280.0",
         "2023-10-23 08:36:00"
        ],
        [
         "2",
         "56",
         "CR-V",
         "DBA-RM4",
         "Body",
         "LHS Rear Wing",
         "44.0",
         "-",
         "-",
         "1",
         "replace",
         "Scratched",
         "4",
         "yes",
         "Metallic",
         "4.0",
         null,
         "2023-10-23 08:36:00"
        ],
        [
         "3",
         "56",
         "CR-V",
         "DBA-RM4",
         "Body",
         "Tailgate Assembly",
         "81.0",
         "used",
         "Dealer/OEM",
         "1",
         "repair",
         "Buckled",
         "4",
         "yes",
         "Metallic",
         "4.0",
         "139200.0",
         "2023-10-23 08:36:00"
        ],
        [
         "4",
         "56",
         "CR-V",
         "DBA-RM4",
         "Body",
         "Tailgate Shocks",
         "44.0",
         "used",
         "Dealer/OEM",
         "1",
         "repair",
         "Bent",
         "4",
         "no",
         "-",
         null,
         "5800.0",
         "2023-10-23 08:36:00"
        ],
        [
         "5",
         "56",
         "CR-V",
         "DBA-RM4",
         "Electrical",
         "LHS Tail Light",
         "44.0",
         "used",
         "Dealer/OEM",
         "1",
         "repair",
         "Cracked",
         "4",
         "no",
         "-",
         null,
         "29000.0",
         "2023-10-23 08:36:00"
        ],
        [
         "6",
         "56",
         "CR-V",
         "DBA-RM4",
         "Services",
         "Body Jack",
         "44.0",
         "-",
         "-",
         "1",
         "-",
         "-",
         "4",
         "no",
         "-",
         null,
         "5000.0",
         "2023-10-23 08:36:00"
        ],
        [
         "7",
         "56",
         "CR-V",
         "DBA-RM4",
         "Services",
         "Labour Charges",
         "44.0",
         "-",
         "-",
         "1",
         "-",
         "-",
         "4",
         "no",
         "-",
         null,
         "12000.0",
         "2023-10-23 08:36:00"
        ],
        [
         "8",
         "56",
         "CR-V",
         "DBA-RM4",
         "Services",
         "Painting Per Panel",
         "44.0",
         "-",
         "-",
         "1",
         "-",
         "-",
         "4",
         "no",
         "-",
         null,
         "6000.0",
         "2023-10-23 08:36:00"
        ],
        [
         "9",
         "56",
         "CR-V",
         "DBA-RM4",
         "Body",
         "LHS Tail Light Upper",
         "29.0",
         "used",
         "Dealer/OEM",
         "1",
         "repair",
         "Cracked",
         "4",
         "no",
         "-",
         null,
         "9280.0",
         "2023-10-23 08:36:00"
        ],
        [
         "10",
         "56",
         "CR-V",
         "DBA-RM4",
         "Body",
         "Rear Bumper",
         "37.0",
         "used",
         "Dealer/OEM",
         "1",
         "repair",
         "Cracked",
         "4",
         "yes",
         "Metallic",
         "4.0",
         "40600.0",
         "2023-10-23 08:36:00"
        ],
        [
         "11",
         "56",
         "CR-V",
         "DBA-RM4",
         "Body",
         "Front Bumper",
         "44.0",
         "-",
         "-",
         "1",
         "replace",
         "Scratched",
         "4",
         "yes",
         "Metallic",
         "4.0",
         null,
         "2023-10-23 08:36:00"
        ],
        [
         "12",
         "56",
         "CR-V",
         "DBA-RM4",
         "Body",
         "LHS Fog Light Cover",
         "44.0",
         "used",
         "Dealer/OEM",
         "1",
         "repair",
         "Torn",
         "4",
         "no",
         "-",
         null,
         "7540.0",
         "2023-10-23 08:36:00"
        ],
        [
         "13",
         "56",
         "CR-V",
         "DBA-RM4",
         "Services",
         "2k Primer",
         "44.0",
         "-",
         "-",
         "1",
         "-",
         "-",
         "4",
         "no",
         "-",
         null,
         "2000.0",
         "2023-10-23 08:36:00"
        ],
        [
         "14",
         "56",
         "CR-V",
         "DBA-RM4",
         "Services",
         "Miscellaneous",
         "44.0",
         "-",
         "-",
         "1",
         "-",
         "-",
         "4",
         "no",
         "-",
         null,
         "2500.0",
         "2023-10-23 08:36:00"
        ],
        [
         "15",
         "87",
         "Odyssey",
         "DBA-CR1",
         "Body",
         "Dust Collector",
         "214.0",
         "used",
         "Dealer/OEM",
         "1",
         "repair",
         "Crushed",
         "5",
         "no",
         "-",
         null,
         "4000.0",
         "2023-11-16 06:48:00"
        ],
        [
         "16",
         "87",
         "Odyssey",
         "DBA-CR1",
         "Body",
         "Front Bumper",
         "214.0",
         "-",
         "-",
         "1",
         "replace",
         "Scratched",
         "5",
         "yes",
         "Metallic",
         "4.0",
         null,
         "2023-11-16 06:48:00"
        ],
        [
         "17",
         "87",
         "Odyssey",
         "DBA-CR1",
         "Body",
         "LHS Front Wing",
         "214.0",
         "-",
         "-",
         "1",
         "replace",
         "Scratched",
         "5",
         "yes",
         "Metallic",
         "4.0",
         null,
         "2023-11-16 06:48:00"
        ],
        [
         "18",
         "87",
         "Odyssey",
         "DBA-CR1",
         "Body",
         "LHS Front Wing Liner",
         "214.0",
         "used",
         "Dealer/OEM",
         "1",
         "repair",
         "Ripped off",
         "5",
         "no",
         "-",
         null,
         "5000.0",
         "2023-11-16 06:48:00"
        ],
        [
         "19",
         "87",
         "Odyssey",
         "DBA-CR1",
         "Body",
         "LHS Side Mirror With Blinker",
         "214.0",
         "used",
         "Dealer/OEM",
         "1",
         "repair",
         "Broken",
         "5",
         "no",
         "-",
         null,
         "18000.0",
         "2023-11-16 06:48:00"
        ],
        [
         "20",
         "87",
         "Odyssey",
         "DBA-CR1",
         "Body",
         "LHS Rear Door",
         "214.0",
         "-",
         "-",
         "1",
         "replace",
         "Scratched",
         "5",
         "yes",
         "Metallic",
         "4.0",
         null,
         "2023-11-16 06:48:00"
        ],
        [
         "21",
         "87",
         "Odyssey",
         "DBA-CR1",
         "Body",
         "LHS Rear Sliding Door",
         "214.0",
         "-",
         "-",
         "1",
         "replace",
         "Scratched",
         "5",
         "yes",
         "Metallic",
         "4.0",
         null,
         "2023-11-16 06:48:00"
        ],
        [
         "22",
         "87",
         "Odyssey",
         "DBA-CR1",
         "Wheels",
         "LHF Tyre",
         "214.0",
         "new",
         "Dealer/OEM",
         "1",
         "repair",
         "Torn",
         "5",
         "no",
         "-",
         null,
         "12000.0",
         "2023-11-16 06:48:00"
        ],
        [
         "23",
         "87",
         "Odyssey",
         "DBA-CR1",
         "Services",
         "2k Primer",
         "214.0",
         "-",
         "-",
         "1",
         "-",
         "-",
         "5",
         "no",
         "-",
         null,
         "2000.0",
         "2023-11-16 06:48:00"
        ],
        [
         "24",
         "87",
         "Odyssey",
         "DBA-CR1",
         "Services",
         "Miscellaneous",
         "214.0",
         "-",
         "-",
         "1",
         "-",
         "-",
         "5",
         "no",
         "-",
         null,
         "2000.0",
         "2023-11-16 06:48:00"
        ],
        [
         "25",
         "87",
         "Odyssey",
         "DBA-CR1",
         "Services",
         "Labour Charges",
         "214.0",
         "-",
         "-",
         "1",
         "-",
         "-",
         "5",
         "no",
         "-",
         null,
         "12000.0",
         "2023-11-16 06:48:00"
        ],
        [
         "26",
         "87",
         "Odyssey",
         "DBA-CR1",
         "Services",
         "Painting Per Panel",
         "214.0",
         "-",
         "-",
         "1",
         "-",
         "-",
         "5",
         "no",
         "-",
         null,
         "6000.0",
         "2023-11-16 06:48:00"
        ],
        [
         "27",
         "125",
         "CR-V",
         "DBA-RE4",
         "Body",
         "Rear Bumper",
         "214.0",
         "-",
         "-",
         "1",
         "replace",
         "Dented",
         "3",
         "yes",
         "Metallic",
         "3.0",
         null,
         "2023-12-05 13:58:00"
        ],
        [
         "28",
         "125",
         "CR-V",
         "DBA-RE4",
         "Body",
         "RHS Rear Wing",
         "214.0",
         "-",
         "-",
         "1",
         "replace",
         "Dented",
         "3",
         "yes",
         "Metallic",
         "3.0",
         null,
         "2023-12-05 13:58:00"
        ],
        [
         "29",
         "125",
         "CR-V",
         "DBA-RE4",
         "Body",
         "Tailgate Assembly",
         "37.0",
         "used",
         "Dealer/OEM",
         "1",
         "repair",
         "Crushed",
         "3",
         "yes",
         "Metallic",
         "3.0",
         "75400.0",
         "2023-12-05 13:58:00"
        ],
        [
         "30",
         "125",
         "CR-V",
         "DBA-RE4",
         "Electrical",
         "RHS Tail Light",
         "37.0",
         "used",
         "Dealer/OEM",
         "1",
         "repair",
         "Broken",
         "3",
         "no",
         "-",
         null,
         "17400.0",
         "2023-12-05 13:58:00"
        ],
        [
         "31",
         "125",
         "CR-V",
         "DBA-RE4",
         "Services",
         "2k Primer",
         "214.0",
         "-",
         "-",
         "1",
         "-",
         "-",
         "3",
         "no",
         "-",
         null,
         "2000.0",
         "2023-12-05 13:58:00"
        ],
        [
         "32",
         "125",
         "CR-V",
         "DBA-RE4",
         "Services",
         "Miscellaneous",
         "214.0",
         "-",
         "-",
         "1",
         "-",
         "-",
         "3",
         "no",
         "-",
         null,
         "1500.0",
         "2023-12-05 13:58:00"
        ],
        [
         "33",
         "125",
         "CR-V",
         "DBA-RE4",
         "Services",
         "Labour Charges",
         "214.0",
         "-",
         "-",
         "1",
         "-",
         "-",
         "3",
         "no",
         "-",
         null,
         "8000.0",
         "2023-12-05 13:58:00"
        ],
        [
         "34",
         "125",
         "CR-V",
         "DBA-RE4",
         "Services",
         "Painting Per Panel",
         "214.0",
         "-",
         "-",
         "1",
         "-",
         "-",
         "3",
         "no",
         "-",
         null,
         "5500.0",
         "2023-12-05 13:58:00"
        ],
        [
         "35",
         "127",
         "Stream",
         "DBA-RN6",
         "Body",
         "Bonnet Lid",
         "37.0",
         "used",
         "Dealer/OEM",
         "1",
         "repair",
         "Buckled",
         "5",
         "yes",
         "Ordinary",
         "2.0",
         "20880.0",
         "2023-12-07 08:34:00"
        ],
        [
         "36",
         "127",
         "Stream",
         "DBA-RN6",
         "Body",
         "Front Bumper",
         "37.0",
         "used",
         "Dealer/OEM",
         "1",
         "repair",
         "Crushed",
         "5",
         "yes",
         "Ordinary",
         "2.0",
         "34800.0",
         "2023-12-07 08:34:00"
        ],
        [
         "37",
         "127",
         "Stream",
         "DBA-RN6",
         "Body",
         "Front Bumper Support",
         "213.0",
         "used",
         "Dealer/OEM",
         "1",
         "repair",
         "Bent",
         "5",
         "no",
         "-",
         null,
         "8700.0",
         "2023-12-07 08:34:00"
        ],
        [
         "38",
         "127",
         "Stream",
         "DBA-RN6",
         "Body",
         "Front Grille",
         "213.0",
         "used",
         "Dealer/OEM",
         "1",
         "repair",
         "Broken",
         "5",
         "no",
         "-",
         null,
         "17400.0",
         "2023-12-07 08:34:00"
        ],
        [
         "39",
         "127",
         "Stream",
         "DBA-RN6",
         "Electrical",
         "RHS Headlight (Xenon)",
         "29.0",
         "used",
         "Dealer/OEM",
         "1",
         "repair",
         "Broken",
         "5",
         "no",
         "-",
         null,
         "20880.0",
         "2023-12-07 08:34:00"
        ],
        [
         "40",
         "127",
         "Stream",
         "DBA-RN6",
         "Engine & Chassis",
         "Cooling Radiator",
         "29.0",
         "used",
         "Dealer/OEM",
         "1",
         "repair",
         "Broken",
         "5",
         "no",
         "-",
         null,
         "17284.0",
         "2023-12-07 08:34:00"
        ],
        [
         "41",
         "127",
         "Stream",
         "DBA-RN6",
         "Services",
         "2k Primer",
         "213.0",
         "-",
         "-",
         "1",
         "-",
         "-",
         "5",
         "no",
         "-",
         null,
         "2000.0",
         "2023-12-07 08:34:00"
        ],
        [
         "42",
         "127",
         "Stream",
         "DBA-RN6",
         "Services",
         "A/C Gas",
         "213.0",
         "-",
         "-",
         "1",
         "-",
         "-",
         "5",
         "no",
         "-",
         null,
         "4000.0",
         "2023-12-07 08:34:00"
        ],
        [
         "43",
         "127",
         "Stream",
         "DBA-RN6",
         "Services",
         "Miscellaneous",
         "213.0",
         "-",
         "-",
         "1",
         "-",
         "-",
         "5",
         "no",
         "-",
         null,
         "2000.0",
         "2023-12-07 08:34:00"
        ],
        [
         "44",
         "127",
         "Stream",
         "DBA-RN6",
         "Services",
         "Labour Charges",
         "213.0",
         "-",
         "-",
         "1",
         "-",
         "-",
         "5",
         "no",
         "-",
         null,
         "8000.0",
         "2023-12-07 08:34:00"
        ],
        [
         "45",
         "127",
         "Stream",
         "DBA-RN6",
         "Services",
         "Painting Per Panel",
         "213.0",
         "-",
         "-",
         "1",
         "-",
         "-",
         "5",
         "no",
         "-",
         null,
         "5000.0",
         "2023-12-07 08:34:00"
        ],
        [
         "46",
         "198",
         "Fit",
         "DBA-GK3",
         "Body",
         "Boot Lock Garnish",
         "224.0",
         "used",
         "Generic",
         "1",
         "repair",
         "Broken",
         "2",
         "no",
         "-",
         null,
         "9000.0",
         "2024-02-20 08:24:00"
        ],
        [
         "47",
         "198",
         "Fit",
         "DBA-GK3",
         "Services",
         "Labour Charges",
         "224.0",
         "-",
         "-",
         "1",
         "-",
         "-",
         "2",
         "no",
         "-",
         null,
         "5000.0",
         "2024-02-20 08:24:00"
        ],
        [
         "48",
         "198",
         "Fit",
         "DBA-GK3",
         "Services",
         "Painting Per Panel",
         "224.0",
         "-",
         "-",
         "1",
         "-",
         "-",
         "2",
         "no",
         "-",
         null,
         "5500.0",
         "2024-02-20 08:24:00"
        ],
        [
         "49",
         "198",
         "Fit",
         "DBA-GK3",
         "Services",
         "Miscellaneous",
         "224.0",
         "-",
         "-",
         "1",
         "-",
         "-",
         "2",
         "no",
         "-",
         null,
         "1000.0",
         "2024-02-20 08:24:00"
        ]
       ],
       "shape": {
        "columns": 17,
        "rows": 435
       }
      },
      "text/html": [
       "<div>\n",
       "<style scoped>\n",
       "    .dataframe tbody tr th:only-of-type {\n",
       "        vertical-align: middle;\n",
       "    }\n",
       "\n",
       "    .dataframe tbody tr th {\n",
       "        vertical-align: top;\n",
       "    }\n",
       "\n",
       "    .dataframe thead th {\n",
       "        text-align: right;\n",
       "    }\n",
       "</style>\n",
       "<table border=\"1\" class=\"dataframe\">\n",
       "  <thead>\n",
       "    <tr style=\"text-align: right;\">\n",
       "      <th></th>\n",
       "      <th>assessment_id</th>\n",
       "      <th>vehicle_model</th>\n",
       "      <th>model_code</th>\n",
       "      <th>category</th>\n",
       "      <th>part_or_service</th>\n",
       "      <th>pervice_provider_id</th>\n",
       "      <th>part_condition</th>\n",
       "      <th>part_type</th>\n",
       "      <th>quantity</th>\n",
       "      <th>fix_type</th>\n",
       "      <th>damage</th>\n",
       "      <th>estimated_repair_days</th>\n",
       "      <th>for_painting</th>\n",
       "      <th>paint_type</th>\n",
       "      <th>panels_to_paint</th>\n",
       "      <th>unit_price_(vat_incl._16%)</th>\n",
       "      <th>date</th>\n",
       "    </tr>\n",
       "  </thead>\n",
       "  <tbody>\n",
       "    <tr>\n",
       "      <th>0</th>\n",
       "      <td>56</td>\n",
       "      <td>CR-V</td>\n",
       "      <td>DBA-RM4</td>\n",
       "      <td>Body</td>\n",
       "      <td>Boot Catch Panel</td>\n",
       "      <td>44.0</td>\n",
       "      <td>-</td>\n",
       "      <td>-</td>\n",
       "      <td>1</td>\n",
       "      <td>replace</td>\n",
       "      <td>Scratched</td>\n",
       "      <td>4</td>\n",
       "      <td>no</td>\n",
       "      <td>-</td>\n",
       "      <td>NaN</td>\n",
       "      <td>NaN</td>\n",
       "      <td>2023-10-23 08:36:00</td>\n",
       "    </tr>\n",
       "    <tr>\n",
       "      <th>1</th>\n",
       "      <td>56</td>\n",
       "      <td>CR-V</td>\n",
       "      <td>DBA-RM4</td>\n",
       "      <td>Body</td>\n",
       "      <td>LHR Wheel Arch Moulding</td>\n",
       "      <td>44.0</td>\n",
       "      <td>used</td>\n",
       "      <td>Dealer/OEM</td>\n",
       "      <td>1</td>\n",
       "      <td>repair</td>\n",
       "      <td>Broken</td>\n",
       "      <td>4</td>\n",
       "      <td>no</td>\n",
       "      <td>-</td>\n",
       "      <td>NaN</td>\n",
       "      <td>9280.0</td>\n",
       "      <td>2023-10-23 08:36:00</td>\n",
       "    </tr>\n",
       "    <tr>\n",
       "      <th>2</th>\n",
       "      <td>56</td>\n",
       "      <td>CR-V</td>\n",
       "      <td>DBA-RM4</td>\n",
       "      <td>Body</td>\n",
       "      <td>LHS Rear Wing</td>\n",
       "      <td>44.0</td>\n",
       "      <td>-</td>\n",
       "      <td>-</td>\n",
       "      <td>1</td>\n",
       "      <td>replace</td>\n",
       "      <td>Scratched</td>\n",
       "      <td>4</td>\n",
       "      <td>yes</td>\n",
       "      <td>Metallic</td>\n",
       "      <td>4.0</td>\n",
       "      <td>NaN</td>\n",
       "      <td>2023-10-23 08:36:00</td>\n",
       "    </tr>\n",
       "    <tr>\n",
       "      <th>3</th>\n",
       "      <td>56</td>\n",
       "      <td>CR-V</td>\n",
       "      <td>DBA-RM4</td>\n",
       "      <td>Body</td>\n",
       "      <td>Tailgate Assembly</td>\n",
       "      <td>81.0</td>\n",
       "      <td>used</td>\n",
       "      <td>Dealer/OEM</td>\n",
       "      <td>1</td>\n",
       "      <td>repair</td>\n",
       "      <td>Buckled</td>\n",
       "      <td>4</td>\n",
       "      <td>yes</td>\n",
       "      <td>Metallic</td>\n",
       "      <td>4.0</td>\n",
       "      <td>139200.0</td>\n",
       "      <td>2023-10-23 08:36:00</td>\n",
       "    </tr>\n",
       "    <tr>\n",
       "      <th>4</th>\n",
       "      <td>56</td>\n",
       "      <td>CR-V</td>\n",
       "      <td>DBA-RM4</td>\n",
       "      <td>Body</td>\n",
       "      <td>Tailgate Shocks</td>\n",
       "      <td>44.0</td>\n",
       "      <td>used</td>\n",
       "      <td>Dealer/OEM</td>\n",
       "      <td>1</td>\n",
       "      <td>repair</td>\n",
       "      <td>Bent</td>\n",
       "      <td>4</td>\n",
       "      <td>no</td>\n",
       "      <td>-</td>\n",
       "      <td>NaN</td>\n",
       "      <td>5800.0</td>\n",
       "      <td>2023-10-23 08:36:00</td>\n",
       "    </tr>\n",
       "    <tr>\n",
       "      <th>...</th>\n",
       "      <td>...</td>\n",
       "      <td>...</td>\n",
       "      <td>...</td>\n",
       "      <td>...</td>\n",
       "      <td>...</td>\n",
       "      <td>...</td>\n",
       "      <td>...</td>\n",
       "      <td>...</td>\n",
       "      <td>...</td>\n",
       "      <td>...</td>\n",
       "      <td>...</td>\n",
       "      <td>...</td>\n",
       "      <td>...</td>\n",
       "      <td>...</td>\n",
       "      <td>...</td>\n",
       "      <td>...</td>\n",
       "      <td>...</td>\n",
       "    </tr>\n",
       "    <tr>\n",
       "      <th>430</th>\n",
       "      <td>635</td>\n",
       "      <td>Stream</td>\n",
       "      <td>DBA-RN6</td>\n",
       "      <td>Services</td>\n",
       "      <td>Painting Per Panel</td>\n",
       "      <td>56.0</td>\n",
       "      <td>-</td>\n",
       "      <td>-</td>\n",
       "      <td>1</td>\n",
       "      <td>-</td>\n",
       "      <td>-</td>\n",
       "      <td>3</td>\n",
       "      <td>no</td>\n",
       "      <td>-</td>\n",
       "      <td>NaN</td>\n",
       "      <td>6000.0</td>\n",
       "      <td>2025-05-05 12:49:00</td>\n",
       "    </tr>\n",
       "    <tr>\n",
       "      <th>431</th>\n",
       "      <td>635</td>\n",
       "      <td>Stream</td>\n",
       "      <td>DBA-RN6</td>\n",
       "      <td>Services</td>\n",
       "      <td>Gas Welding</td>\n",
       "      <td>56.0</td>\n",
       "      <td>-</td>\n",
       "      <td>-</td>\n",
       "      <td>1</td>\n",
       "      <td>-</td>\n",
       "      <td>-</td>\n",
       "      <td>3</td>\n",
       "      <td>no</td>\n",
       "      <td>-</td>\n",
       "      <td>NaN</td>\n",
       "      <td>4000.0</td>\n",
       "      <td>2025-05-05 12:49:00</td>\n",
       "    </tr>\n",
       "    <tr>\n",
       "      <th>432</th>\n",
       "      <td>635</td>\n",
       "      <td>Stream</td>\n",
       "      <td>DBA-RN6</td>\n",
       "      <td>Services</td>\n",
       "      <td>2k Primer</td>\n",
       "      <td>56.0</td>\n",
       "      <td>-</td>\n",
       "      <td>-</td>\n",
       "      <td>1</td>\n",
       "      <td>-</td>\n",
       "      <td>-</td>\n",
       "      <td>3</td>\n",
       "      <td>no</td>\n",
       "      <td>-</td>\n",
       "      <td>NaN</td>\n",
       "      <td>2000.0</td>\n",
       "      <td>2025-05-05 12:49:00</td>\n",
       "    </tr>\n",
       "    <tr>\n",
       "      <th>433</th>\n",
       "      <td>635</td>\n",
       "      <td>Stream</td>\n",
       "      <td>DBA-RN6</td>\n",
       "      <td>Services</td>\n",
       "      <td>Miscellaneous</td>\n",
       "      <td>56.0</td>\n",
       "      <td>-</td>\n",
       "      <td>-</td>\n",
       "      <td>1</td>\n",
       "      <td>-</td>\n",
       "      <td>-</td>\n",
       "      <td>3</td>\n",
       "      <td>no</td>\n",
       "      <td>-</td>\n",
       "      <td>NaN</td>\n",
       "      <td>1500.0</td>\n",
       "      <td>2025-05-05 12:49:00</td>\n",
       "    </tr>\n",
       "    <tr>\n",
       "      <th>434</th>\n",
       "      <td>635</td>\n",
       "      <td>Stream</td>\n",
       "      <td>DBA-RN6</td>\n",
       "      <td>Body</td>\n",
       "      <td>LHS Rear Wing</td>\n",
       "      <td>56.0</td>\n",
       "      <td>-</td>\n",
       "      <td>-</td>\n",
       "      <td>1</td>\n",
       "      <td>replace</td>\n",
       "      <td>Dented</td>\n",
       "      <td>3</td>\n",
       "      <td>yes</td>\n",
       "      <td>Ordinary</td>\n",
       "      <td>4.0</td>\n",
       "      <td>NaN</td>\n",
       "      <td>2025-05-05 12:49:00</td>\n",
       "    </tr>\n",
       "  </tbody>\n",
       "</table>\n",
       "<p>435 rows × 17 columns</p>\n",
       "</div>"
      ],
      "text/plain": [
       "     assessment_id vehicle_model model_code  category  \\\n",
       "0               56          CR-V    DBA-RM4      Body   \n",
       "1               56          CR-V    DBA-RM4      Body   \n",
       "2               56          CR-V    DBA-RM4      Body   \n",
       "3               56          CR-V    DBA-RM4      Body   \n",
       "4               56          CR-V    DBA-RM4      Body   \n",
       "..             ...           ...        ...       ...   \n",
       "430            635        Stream    DBA-RN6  Services   \n",
       "431            635        Stream    DBA-RN6  Services   \n",
       "432            635        Stream    DBA-RN6  Services   \n",
       "433            635        Stream    DBA-RN6  Services   \n",
       "434            635        Stream    DBA-RN6      Body   \n",
       "\n",
       "             part_or_service pervice_provider_id part_condition   part_type  \\\n",
       "0           Boot Catch Panel                44.0              -           -   \n",
       "1    LHR Wheel Arch Moulding                44.0           used  Dealer/OEM   \n",
       "2              LHS Rear Wing                44.0              -           -   \n",
       "3          Tailgate Assembly                81.0           used  Dealer/OEM   \n",
       "4            Tailgate Shocks                44.0           used  Dealer/OEM   \n",
       "..                       ...                 ...            ...         ...   \n",
       "430       Painting Per Panel                56.0              -           -   \n",
       "431              Gas Welding                56.0              -           -   \n",
       "432                2k Primer                56.0              -           -   \n",
       "433            Miscellaneous                56.0              -           -   \n",
       "434            LHS Rear Wing                56.0              -           -   \n",
       "\n",
       "     quantity fix_type     damage  estimated_repair_days for_painting  \\\n",
       "0           1  replace  Scratched                      4           no   \n",
       "1           1   repair     Broken                      4           no   \n",
       "2           1  replace  Scratched                      4          yes   \n",
       "3           1   repair    Buckled                      4          yes   \n",
       "4           1   repair       Bent                      4           no   \n",
       "..        ...      ...        ...                    ...          ...   \n",
       "430         1        -          -                      3           no   \n",
       "431         1        -          -                      3           no   \n",
       "432         1        -          -                      3           no   \n",
       "433         1        -          -                      3           no   \n",
       "434         1  replace     Dented                      3          yes   \n",
       "\n",
       "    paint_type  panels_to_paint  unit_price_(vat_incl._16%)  \\\n",
       "0            -              NaN                         NaN   \n",
       "1            -              NaN                      9280.0   \n",
       "2     Metallic              4.0                         NaN   \n",
       "3     Metallic              4.0                    139200.0   \n",
       "4            -              NaN                      5800.0   \n",
       "..         ...              ...                         ...   \n",
       "430          -              NaN                      6000.0   \n",
       "431          -              NaN                      4000.0   \n",
       "432          -              NaN                      2000.0   \n",
       "433          -              NaN                      1500.0   \n",
       "434   Ordinary              4.0                         NaN   \n",
       "\n",
       "                   date  \n",
       "0   2023-10-23 08:36:00  \n",
       "1   2023-10-23 08:36:00  \n",
       "2   2023-10-23 08:36:00  \n",
       "3   2023-10-23 08:36:00  \n",
       "4   2023-10-23 08:36:00  \n",
       "..                  ...  \n",
       "430 2025-05-05 12:49:00  \n",
       "431 2025-05-05 12:49:00  \n",
       "432 2025-05-05 12:49:00  \n",
       "433 2025-05-05 12:49:00  \n",
       "434 2025-05-05 12:49:00  \n",
       "\n",
       "[435 rows x 17 columns]"
      ]
     },
     "execution_count": 192,
     "metadata": {},
     "output_type": "execute_result"
    }
   ],
   "source": [
    "clean_df"
   ]
  },
  {
   "cell_type": "code",
   "execution_count": 193,
   "id": "347f68fb",
   "metadata": {},
   "outputs": [
    {
     "data": {
      "application/vnd.microsoft.datawrangler.viewer.v0+json": {
       "columns": [
        {
         "name": "index",
         "rawType": "object",
         "type": "string"
        },
        {
         "name": "0",
         "rawType": "object",
         "type": "unknown"
        }
       ],
       "ref": "f7af268a-8b45-44fc-932e-527254eebaa6",
       "rows": [
        [
         "assessment_id",
         "int64"
        ],
        [
         "vehicle_model",
         "object"
        ],
        [
         "model_code",
         "object"
        ],
        [
         "category",
         "object"
        ],
        [
         "part_or_service",
         "object"
        ],
        [
         "pervice_provider_id",
         "string"
        ],
        [
         "part_condition",
         "object"
        ],
        [
         "part_type",
         "object"
        ],
        [
         "quantity",
         "int64"
        ],
        [
         "fix_type",
         "object"
        ],
        [
         "damage",
         "object"
        ],
        [
         "estimated_repair_days",
         "int64"
        ],
        [
         "for_painting",
         "object"
        ],
        [
         "paint_type",
         "object"
        ],
        [
         "panels_to_paint",
         "float64"
        ],
        [
         "unit_price_(vat_incl._16%)",
         "float64"
        ],
        [
         "date",
         "datetime64[ns]"
        ]
       ],
       "shape": {
        "columns": 1,
        "rows": 17
       }
      },
      "text/plain": [
       "assessment_id                          int64\n",
       "vehicle_model                         object\n",
       "model_code                            object\n",
       "category                              object\n",
       "part_or_service                       object\n",
       "pervice_provider_id           string[python]\n",
       "part_condition                        object\n",
       "part_type                             object\n",
       "quantity                               int64\n",
       "fix_type                              object\n",
       "damage                                object\n",
       "estimated_repair_days                  int64\n",
       "for_painting                          object\n",
       "paint_type                            object\n",
       "panels_to_paint                      float64\n",
       "unit_price_(vat_incl._16%)           float64\n",
       "date                          datetime64[ns]\n",
       "dtype: object"
      ]
     },
     "execution_count": 193,
     "metadata": {},
     "output_type": "execute_result"
    }
   ],
   "source": [
    "clean_df.dtypes"
   ]
  },
  {
   "cell_type": "markdown",
   "id": "f6fe3a33",
   "metadata": {},
   "source": [
    "- Using median to impute the missing values in the **'unit_price_(vat_incl._16%)'** due to the presence of outliers in each  model code category"
   ]
  },
  {
   "cell_type": "code",
   "execution_count": 194,
   "id": "d8ae5de1",
   "metadata": {},
   "outputs": [
    {
     "name": "stdout",
     "output_type": "stream",
     "text": [
      "model_code\n",
      "DBA-RN6    7500.0\n",
      "DBA-RM4    7020.0\n",
      "DAA-GM6    6500.0\n",
      "DAA-RU3    6380.0\n",
      "DBA-RB1    6000.0\n",
      "DBA-CR1    5500.0\n",
      "DBA-GB3    5500.0\n",
      "DBA-GK3    5500.0\n",
      "DBA-RE4    5500.0\n",
      "DBA-RM1    5500.0\n",
      "DAA-GPI    5000.0\n",
      "DBA-GE6    4750.0\n",
      "125        1740.0\n",
      "Name: unit_price_(vat_incl._16%), dtype: float64\n"
     ]
    }
   ],
   "source": [
    "# Step 1: Get median price per model_code\n",
    "model_code_medians = clean_df.groupby('model_code')['unit_price_(vat_incl._16%)'].median().sort_values(ascending=False)\n",
    "print(model_code_medians)\n"
   ]
  },
  {
   "cell_type": "code",
   "execution_count": 195,
   "id": "f6ee6676",
   "metadata": {},
   "outputs": [],
   "source": [
    "# Step 2: Replace missing values with the group median\n",
    "clean_df['unit_price_(vat_incl._16%)'] = clean_df.apply(\n",
    "    lambda row: model_code_medians[row['model_code']] if pd.isna(row['unit_price_(vat_incl._16%)']) else row['unit_price_(vat_incl._16%)'],\n",
    "    axis=1\n",
    ")\n"
   ]
  },
  {
   "cell_type": "code",
   "execution_count": 196,
   "id": "844ff559",
   "metadata": {},
   "outputs": [
    {
     "data": {
      "application/vnd.microsoft.datawrangler.viewer.v0+json": {
       "columns": [
        {
         "name": "index",
         "rawType": "object",
         "type": "string"
        },
        {
         "name": "0",
         "rawType": "int64",
         "type": "integer"
        }
       ],
       "ref": "4ab372e1-afd8-4a3f-bb66-3ae4ea2c38f9",
       "rows": [
        [
         "assessment_id",
         "0"
        ],
        [
         "vehicle_model",
         "0"
        ],
        [
         "model_code",
         "0"
        ],
        [
         "category",
         "0"
        ],
        [
         "part_or_service",
         "0"
        ],
        [
         "pervice_provider_id",
         "10"
        ],
        [
         "part_condition",
         "0"
        ],
        [
         "part_type",
         "0"
        ],
        [
         "quantity",
         "0"
        ],
        [
         "fix_type",
         "0"
        ],
        [
         "damage",
         "0"
        ],
        [
         "estimated_repair_days",
         "0"
        ],
        [
         "for_painting",
         "0"
        ],
        [
         "paint_type",
         "0"
        ],
        [
         "panels_to_paint",
         "315"
        ],
        [
         "unit_price_(vat_incl._16%)",
         "0"
        ],
        [
         "date",
         "0"
        ]
       ],
       "shape": {
        "columns": 1,
        "rows": 17
       }
      },
      "text/plain": [
       "assessment_id                   0\n",
       "vehicle_model                   0\n",
       "model_code                      0\n",
       "category                        0\n",
       "part_or_service                 0\n",
       "pervice_provider_id            10\n",
       "part_condition                  0\n",
       "part_type                       0\n",
       "quantity                        0\n",
       "fix_type                        0\n",
       "damage                          0\n",
       "estimated_repair_days           0\n",
       "for_painting                    0\n",
       "paint_type                      0\n",
       "panels_to_paint               315\n",
       "unit_price_(vat_incl._16%)      0\n",
       "date                            0\n",
       "dtype: int64"
      ]
     },
     "execution_count": 196,
     "metadata": {},
     "output_type": "execute_result"
    }
   ],
   "source": [
    "clean_df.isnull().sum()"
   ]
  },
  {
   "cell_type": "code",
   "execution_count": 197,
   "id": "1e88d048",
   "metadata": {},
   "outputs": [],
   "source": [
    "#renaming the colum pervice_provider_id to service_provider_id\n",
    "clean_df.rename(columns={'pervice_provider_id': 'service_provider_id'}, inplace=True)"
   ]
  },
  {
   "cell_type": "code",
   "execution_count": 198,
   "id": "e4ef5754",
   "metadata": {},
   "outputs": [
    {
     "data": {
      "text/plain": [
       "<StringArray>\n",
       "[ '44.0',  '81.0',  '29.0',  '37.0', '214.0', '213.0', '224.0', '259.0',\n",
       "    <NA>, '100.0',  '55.0',  '56.0',  '47.0',  '52.0', '105.0', '223.0',\n",
       " '222.0',  '32.0']\n",
       "Length: 18, dtype: string"
      ]
     },
     "execution_count": 198,
     "metadata": {},
     "output_type": "execute_result"
    }
   ],
   "source": [
    "clean_df['service_provider_id'].unique()"
   ]
  },
  {
   "cell_type": "markdown",
   "id": "cef02b76",
   "metadata": {},
   "source": [
    "- Replacing the missing values in the service provider by the mode of each category"
   ]
  },
  {
   "cell_type": "code",
   "execution_count": 199,
   "id": "b4aee65b",
   "metadata": {},
   "outputs": [
    {
     "data": {
      "application/vnd.microsoft.datawrangler.viewer.v0+json": {
       "columns": [
        {
         "name": "index",
         "rawType": "int64",
         "type": "integer"
        },
        {
         "name": "assessment_id",
         "rawType": "int64",
         "type": "integer"
        },
        {
         "name": "vehicle_model",
         "rawType": "object",
         "type": "string"
        },
        {
         "name": "model_code",
         "rawType": "object",
         "type": "string"
        },
        {
         "name": "category",
         "rawType": "object",
         "type": "string"
        },
        {
         "name": "part_or_service",
         "rawType": "object",
         "type": "string"
        },
        {
         "name": "service_provider_id",
         "rawType": "string",
         "type": "string"
        },
        {
         "name": "part_condition",
         "rawType": "object",
         "type": "string"
        },
        {
         "name": "part_type",
         "rawType": "object",
         "type": "string"
        },
        {
         "name": "quantity",
         "rawType": "int64",
         "type": "integer"
        },
        {
         "name": "fix_type",
         "rawType": "object",
         "type": "string"
        },
        {
         "name": "damage",
         "rawType": "object",
         "type": "string"
        },
        {
         "name": "estimated_repair_days",
         "rawType": "int64",
         "type": "integer"
        },
        {
         "name": "for_painting",
         "rawType": "object",
         "type": "string"
        },
        {
         "name": "paint_type",
         "rawType": "object",
         "type": "string"
        },
        {
         "name": "panels_to_paint",
         "rawType": "float64",
         "type": "float"
        },
        {
         "name": "unit_price_(vat_incl._16%)",
         "rawType": "float64",
         "type": "float"
        },
        {
         "name": "date",
         "rawType": "datetime64[ns]",
         "type": "datetime"
        }
       ],
       "ref": "046628ec-245d-48ad-98b1-ac63dd421314",
       "rows": [
        [
         "79",
         "204",
         "Fit",
         "DBA-GE6",
         "Body",
         "Rear Bumper",
         null,
         "-",
         "-",
         "1",
         "replace",
         "Dented",
         "10",
         "yes",
         "Ordinary",
         "9.0",
         "4750.0",
         "2024-02-26 07:46:00"
        ],
        [
         "80",
         "204",
         "Fit",
         "DBA-GE6",
         "Body",
         "RHS Running Board",
         null,
         "-",
         "-",
         "1",
         "replace",
         "Dented",
         "10",
         "yes",
         "Ordinary",
         "9.0",
         "4750.0",
         "2024-02-26 07:46:00"
        ],
        [
         "82",
         "204",
         "Fit",
         "DBA-GE6",
         "Body",
         "LHS Front Door",
         null,
         "-",
         "-",
         "1",
         "replace",
         "Scratched",
         "10",
         "yes",
         "Ordinary",
         "9.0",
         "4750.0",
         "2024-02-26 07:46:00"
        ],
        [
         "83",
         "204",
         "Fit",
         "DBA-GE6",
         "Services",
         "Labour Charges",
         null,
         "-",
         "-",
         "1",
         "-",
         "-",
         "10",
         "no",
         "-",
         null,
         "20000.0",
         "2024-02-26 07:46:00"
        ],
        [
         "84",
         "204",
         "Fit",
         "DBA-GE6",
         "Services",
         "Painting Per Panel",
         null,
         "-",
         "-",
         "1",
         "-",
         "-",
         "10",
         "no",
         "-",
         null,
         "5500.0",
         "2024-02-26 07:46:00"
        ],
        [
         "85",
         "204",
         "Fit",
         "DBA-GE6",
         "Services",
         "Miscellaneous",
         null,
         "-",
         "-",
         "1",
         "-",
         "-",
         "10",
         "no",
         "-",
         null,
         "3000.0",
         "2024-02-26 07:46:00"
        ],
        [
         "86",
         "204",
         "Fit",
         "DBA-GE6",
         "Services",
         "2k Primer",
         null,
         "-",
         "-",
         "1",
         "-",
         "-",
         "10",
         "no",
         "-",
         null,
         "2000.0",
         "2024-02-26 07:46:00"
        ],
        [
         "87",
         "204",
         "Fit",
         "DBA-GE6",
         "Services",
         "Gas Welding",
         null,
         "-",
         "-",
         "1",
         "-",
         "-",
         "10",
         "no",
         "-",
         null,
         "3500.0",
         "2024-02-26 07:46:00"
        ],
        [
         "88",
         "204",
         "Fit",
         "DBA-GE6",
         "Services",
         "A/C Gas",
         null,
         "-",
         "-",
         "1",
         "-",
         "-",
         "10",
         "no",
         "-",
         null,
         "4500.0",
         "2024-02-26 07:46:00"
        ],
        [
         "139",
         "222",
         "Ace",
         "125",
         "Services",
         "Labour Charges",
         null,
         "-",
         "-",
         "1",
         "-",
         "-",
         "3",
         "no",
         "-",
         null,
         "3000.0",
         "2024-03-07 08:26:00"
        ]
       ],
       "shape": {
        "columns": 17,
        "rows": 10
       }
      },
      "text/html": [
       "<div>\n",
       "<style scoped>\n",
       "    .dataframe tbody tr th:only-of-type {\n",
       "        vertical-align: middle;\n",
       "    }\n",
       "\n",
       "    .dataframe tbody tr th {\n",
       "        vertical-align: top;\n",
       "    }\n",
       "\n",
       "    .dataframe thead th {\n",
       "        text-align: right;\n",
       "    }\n",
       "</style>\n",
       "<table border=\"1\" class=\"dataframe\">\n",
       "  <thead>\n",
       "    <tr style=\"text-align: right;\">\n",
       "      <th></th>\n",
       "      <th>assessment_id</th>\n",
       "      <th>vehicle_model</th>\n",
       "      <th>model_code</th>\n",
       "      <th>category</th>\n",
       "      <th>part_or_service</th>\n",
       "      <th>service_provider_id</th>\n",
       "      <th>part_condition</th>\n",
       "      <th>part_type</th>\n",
       "      <th>quantity</th>\n",
       "      <th>fix_type</th>\n",
       "      <th>damage</th>\n",
       "      <th>estimated_repair_days</th>\n",
       "      <th>for_painting</th>\n",
       "      <th>paint_type</th>\n",
       "      <th>panels_to_paint</th>\n",
       "      <th>unit_price_(vat_incl._16%)</th>\n",
       "      <th>date</th>\n",
       "    </tr>\n",
       "  </thead>\n",
       "  <tbody>\n",
       "    <tr>\n",
       "      <th>79</th>\n",
       "      <td>204</td>\n",
       "      <td>Fit</td>\n",
       "      <td>DBA-GE6</td>\n",
       "      <td>Body</td>\n",
       "      <td>Rear Bumper</td>\n",
       "      <td>&lt;NA&gt;</td>\n",
       "      <td>-</td>\n",
       "      <td>-</td>\n",
       "      <td>1</td>\n",
       "      <td>replace</td>\n",
       "      <td>Dented</td>\n",
       "      <td>10</td>\n",
       "      <td>yes</td>\n",
       "      <td>Ordinary</td>\n",
       "      <td>9.0</td>\n",
       "      <td>4750.0</td>\n",
       "      <td>2024-02-26 07:46:00</td>\n",
       "    </tr>\n",
       "    <tr>\n",
       "      <th>80</th>\n",
       "      <td>204</td>\n",
       "      <td>Fit</td>\n",
       "      <td>DBA-GE6</td>\n",
       "      <td>Body</td>\n",
       "      <td>RHS Running Board</td>\n",
       "      <td>&lt;NA&gt;</td>\n",
       "      <td>-</td>\n",
       "      <td>-</td>\n",
       "      <td>1</td>\n",
       "      <td>replace</td>\n",
       "      <td>Dented</td>\n",
       "      <td>10</td>\n",
       "      <td>yes</td>\n",
       "      <td>Ordinary</td>\n",
       "      <td>9.0</td>\n",
       "      <td>4750.0</td>\n",
       "      <td>2024-02-26 07:46:00</td>\n",
       "    </tr>\n",
       "    <tr>\n",
       "      <th>82</th>\n",
       "      <td>204</td>\n",
       "      <td>Fit</td>\n",
       "      <td>DBA-GE6</td>\n",
       "      <td>Body</td>\n",
       "      <td>LHS Front Door</td>\n",
       "      <td>&lt;NA&gt;</td>\n",
       "      <td>-</td>\n",
       "      <td>-</td>\n",
       "      <td>1</td>\n",
       "      <td>replace</td>\n",
       "      <td>Scratched</td>\n",
       "      <td>10</td>\n",
       "      <td>yes</td>\n",
       "      <td>Ordinary</td>\n",
       "      <td>9.0</td>\n",
       "      <td>4750.0</td>\n",
       "      <td>2024-02-26 07:46:00</td>\n",
       "    </tr>\n",
       "    <tr>\n",
       "      <th>83</th>\n",
       "      <td>204</td>\n",
       "      <td>Fit</td>\n",
       "      <td>DBA-GE6</td>\n",
       "      <td>Services</td>\n",
       "      <td>Labour Charges</td>\n",
       "      <td>&lt;NA&gt;</td>\n",
       "      <td>-</td>\n",
       "      <td>-</td>\n",
       "      <td>1</td>\n",
       "      <td>-</td>\n",
       "      <td>-</td>\n",
       "      <td>10</td>\n",
       "      <td>no</td>\n",
       "      <td>-</td>\n",
       "      <td>NaN</td>\n",
       "      <td>20000.0</td>\n",
       "      <td>2024-02-26 07:46:00</td>\n",
       "    </tr>\n",
       "    <tr>\n",
       "      <th>84</th>\n",
       "      <td>204</td>\n",
       "      <td>Fit</td>\n",
       "      <td>DBA-GE6</td>\n",
       "      <td>Services</td>\n",
       "      <td>Painting Per Panel</td>\n",
       "      <td>&lt;NA&gt;</td>\n",
       "      <td>-</td>\n",
       "      <td>-</td>\n",
       "      <td>1</td>\n",
       "      <td>-</td>\n",
       "      <td>-</td>\n",
       "      <td>10</td>\n",
       "      <td>no</td>\n",
       "      <td>-</td>\n",
       "      <td>NaN</td>\n",
       "      <td>5500.0</td>\n",
       "      <td>2024-02-26 07:46:00</td>\n",
       "    </tr>\n",
       "    <tr>\n",
       "      <th>85</th>\n",
       "      <td>204</td>\n",
       "      <td>Fit</td>\n",
       "      <td>DBA-GE6</td>\n",
       "      <td>Services</td>\n",
       "      <td>Miscellaneous</td>\n",
       "      <td>&lt;NA&gt;</td>\n",
       "      <td>-</td>\n",
       "      <td>-</td>\n",
       "      <td>1</td>\n",
       "      <td>-</td>\n",
       "      <td>-</td>\n",
       "      <td>10</td>\n",
       "      <td>no</td>\n",
       "      <td>-</td>\n",
       "      <td>NaN</td>\n",
       "      <td>3000.0</td>\n",
       "      <td>2024-02-26 07:46:00</td>\n",
       "    </tr>\n",
       "    <tr>\n",
       "      <th>86</th>\n",
       "      <td>204</td>\n",
       "      <td>Fit</td>\n",
       "      <td>DBA-GE6</td>\n",
       "      <td>Services</td>\n",
       "      <td>2k Primer</td>\n",
       "      <td>&lt;NA&gt;</td>\n",
       "      <td>-</td>\n",
       "      <td>-</td>\n",
       "      <td>1</td>\n",
       "      <td>-</td>\n",
       "      <td>-</td>\n",
       "      <td>10</td>\n",
       "      <td>no</td>\n",
       "      <td>-</td>\n",
       "      <td>NaN</td>\n",
       "      <td>2000.0</td>\n",
       "      <td>2024-02-26 07:46:00</td>\n",
       "    </tr>\n",
       "    <tr>\n",
       "      <th>87</th>\n",
       "      <td>204</td>\n",
       "      <td>Fit</td>\n",
       "      <td>DBA-GE6</td>\n",
       "      <td>Services</td>\n",
       "      <td>Gas Welding</td>\n",
       "      <td>&lt;NA&gt;</td>\n",
       "      <td>-</td>\n",
       "      <td>-</td>\n",
       "      <td>1</td>\n",
       "      <td>-</td>\n",
       "      <td>-</td>\n",
       "      <td>10</td>\n",
       "      <td>no</td>\n",
       "      <td>-</td>\n",
       "      <td>NaN</td>\n",
       "      <td>3500.0</td>\n",
       "      <td>2024-02-26 07:46:00</td>\n",
       "    </tr>\n",
       "    <tr>\n",
       "      <th>88</th>\n",
       "      <td>204</td>\n",
       "      <td>Fit</td>\n",
       "      <td>DBA-GE6</td>\n",
       "      <td>Services</td>\n",
       "      <td>A/C Gas</td>\n",
       "      <td>&lt;NA&gt;</td>\n",
       "      <td>-</td>\n",
       "      <td>-</td>\n",
       "      <td>1</td>\n",
       "      <td>-</td>\n",
       "      <td>-</td>\n",
       "      <td>10</td>\n",
       "      <td>no</td>\n",
       "      <td>-</td>\n",
       "      <td>NaN</td>\n",
       "      <td>4500.0</td>\n",
       "      <td>2024-02-26 07:46:00</td>\n",
       "    </tr>\n",
       "    <tr>\n",
       "      <th>139</th>\n",
       "      <td>222</td>\n",
       "      <td>Ace</td>\n",
       "      <td>125</td>\n",
       "      <td>Services</td>\n",
       "      <td>Labour Charges</td>\n",
       "      <td>&lt;NA&gt;</td>\n",
       "      <td>-</td>\n",
       "      <td>-</td>\n",
       "      <td>1</td>\n",
       "      <td>-</td>\n",
       "      <td>-</td>\n",
       "      <td>3</td>\n",
       "      <td>no</td>\n",
       "      <td>-</td>\n",
       "      <td>NaN</td>\n",
       "      <td>3000.0</td>\n",
       "      <td>2024-03-07 08:26:00</td>\n",
       "    </tr>\n",
       "  </tbody>\n",
       "</table>\n",
       "</div>"
      ],
      "text/plain": [
       "     assessment_id vehicle_model model_code  category     part_or_service  \\\n",
       "79             204           Fit    DBA-GE6      Body         Rear Bumper   \n",
       "80             204           Fit    DBA-GE6      Body   RHS Running Board   \n",
       "82             204           Fit    DBA-GE6      Body      LHS Front Door   \n",
       "83             204           Fit    DBA-GE6  Services      Labour Charges   \n",
       "84             204           Fit    DBA-GE6  Services  Painting Per Panel   \n",
       "85             204           Fit    DBA-GE6  Services       Miscellaneous   \n",
       "86             204           Fit    DBA-GE6  Services           2k Primer   \n",
       "87             204           Fit    DBA-GE6  Services         Gas Welding   \n",
       "88             204           Fit    DBA-GE6  Services             A/C Gas   \n",
       "139            222           Ace        125  Services      Labour Charges   \n",
       "\n",
       "    service_provider_id part_condition part_type  quantity fix_type  \\\n",
       "79                 <NA>              -         -         1  replace   \n",
       "80                 <NA>              -         -         1  replace   \n",
       "82                 <NA>              -         -         1  replace   \n",
       "83                 <NA>              -         -         1        -   \n",
       "84                 <NA>              -         -         1        -   \n",
       "85                 <NA>              -         -         1        -   \n",
       "86                 <NA>              -         -         1        -   \n",
       "87                 <NA>              -         -         1        -   \n",
       "88                 <NA>              -         -         1        -   \n",
       "139                <NA>              -         -         1        -   \n",
       "\n",
       "        damage  estimated_repair_days for_painting paint_type  \\\n",
       "79      Dented                     10          yes   Ordinary   \n",
       "80      Dented                     10          yes   Ordinary   \n",
       "82   Scratched                     10          yes   Ordinary   \n",
       "83           -                     10           no          -   \n",
       "84           -                     10           no          -   \n",
       "85           -                     10           no          -   \n",
       "86           -                     10           no          -   \n",
       "87           -                     10           no          -   \n",
       "88           -                     10           no          -   \n",
       "139          -                      3           no          -   \n",
       "\n",
       "     panels_to_paint  unit_price_(vat_incl._16%)                date  \n",
       "79               9.0                      4750.0 2024-02-26 07:46:00  \n",
       "80               9.0                      4750.0 2024-02-26 07:46:00  \n",
       "82               9.0                      4750.0 2024-02-26 07:46:00  \n",
       "83               NaN                     20000.0 2024-02-26 07:46:00  \n",
       "84               NaN                      5500.0 2024-02-26 07:46:00  \n",
       "85               NaN                      3000.0 2024-02-26 07:46:00  \n",
       "86               NaN                      2000.0 2024-02-26 07:46:00  \n",
       "87               NaN                      3500.0 2024-02-26 07:46:00  \n",
       "88               NaN                      4500.0 2024-02-26 07:46:00  \n",
       "139              NaN                      3000.0 2024-03-07 08:26:00  "
      ]
     },
     "execution_count": 199,
     "metadata": {},
     "output_type": "execute_result"
    }
   ],
   "source": [
    "#displaying thr rows with missing service_provider_id\n",
    "missing_service_provider = clean_df[clean_df['service_provider_id'].isnull()]\n",
    "missing_service_provider"
   ]
  },
  {
   "cell_type": "code",
   "execution_count": 200,
   "id": "608fffcc",
   "metadata": {},
   "outputs": [
    {
     "data": {
      "text/plain": [
       "0"
      ]
     },
     "execution_count": 200,
     "metadata": {},
     "output_type": "execute_result"
    }
   ],
   "source": [
    "#replacing the missing values in the service provider by the mode of each category\n",
    "clean_df['service_provider_id'] = clean_df.groupby('model_code')['service_provider_id'].transform(lambda x: x.fillna(x.mode()[0] if not x.mode().empty else np.nan))\n",
    "clean_df['service_provider_id'].isnull().sum()"
   ]
  },
  {
   "cell_type": "code",
   "execution_count": 201,
   "id": "54b9bfe3",
   "metadata": {},
   "outputs": [
    {
     "data": {
      "application/vnd.microsoft.datawrangler.viewer.v0+json": {
       "columns": [
        {
         "name": "index",
         "rawType": "object",
         "type": "string"
        },
        {
         "name": "0",
         "rawType": "int64",
         "type": "integer"
        }
       ],
       "ref": "14942226-8740-4a77-9547-bc4c3415006d",
       "rows": [
        [
         "assessment_id",
         "0"
        ],
        [
         "vehicle_model",
         "0"
        ],
        [
         "model_code",
         "0"
        ],
        [
         "category",
         "0"
        ],
        [
         "part_or_service",
         "0"
        ],
        [
         "service_provider_id",
         "0"
        ],
        [
         "part_condition",
         "0"
        ],
        [
         "part_type",
         "0"
        ],
        [
         "quantity",
         "0"
        ],
        [
         "fix_type",
         "0"
        ],
        [
         "damage",
         "0"
        ],
        [
         "estimated_repair_days",
         "0"
        ],
        [
         "for_painting",
         "0"
        ],
        [
         "paint_type",
         "0"
        ],
        [
         "panels_to_paint",
         "315"
        ],
        [
         "unit_price_(vat_incl._16%)",
         "0"
        ],
        [
         "date",
         "0"
        ]
       ],
       "shape": {
        "columns": 1,
        "rows": 17
       }
      },
      "text/plain": [
       "assessment_id                   0\n",
       "vehicle_model                   0\n",
       "model_code                      0\n",
       "category                        0\n",
       "part_or_service                 0\n",
       "service_provider_id             0\n",
       "part_condition                  0\n",
       "part_type                       0\n",
       "quantity                        0\n",
       "fix_type                        0\n",
       "damage                          0\n",
       "estimated_repair_days           0\n",
       "for_painting                    0\n",
       "paint_type                      0\n",
       "panels_to_paint               315\n",
       "unit_price_(vat_incl._16%)      0\n",
       "date                            0\n",
       "dtype: int64"
      ]
     },
     "execution_count": 201,
     "metadata": {},
     "output_type": "execute_result"
    }
   ],
   "source": [
    "clean_df.isnull().sum()"
   ]
  },
  {
   "cell_type": "markdown",
   "id": "27058471",
   "metadata": {},
   "source": [
    "### Data Set is clean and ready for analysis"
   ]
  },
  {
   "cell_type": "markdown",
   "id": "a4946f5a",
   "metadata": {},
   "source": [
    "Question 1\n",
    "- Compare the average total repair cost between different vehicle model\n",
    "codes. Is there a relationship between the repair costs and the services\n",
    "offered?\n"
   ]
  },
  {
   "cell_type": "code",
   "execution_count": 202,
   "id": "66e6385e",
   "metadata": {},
   "outputs": [],
   "source": [
    "clean_df['repair_cost'] = clean_df['unit_price_(vat_incl._16%)'] * clean_df['quantity']"
   ]
  },
  {
   "cell_type": "code",
   "execution_count": 203,
   "id": "72817822",
   "metadata": {},
   "outputs": [
    {
     "name": "stdout",
     "output_type": "stream",
     "text": [
      "model_code\n",
      "DBA-RM4    16244.545455\n",
      "DBA-RB1    15358.428571\n",
      "DAA-RU3    14645.126000\n",
      "DBA-RM1    13741.363636\n",
      "DBA-GB3    11414.285714\n",
      "DBA-RE4    10391.904762\n",
      "DBA-RN6    10037.106383\n",
      "DBA-GE6     8983.882353\n",
      "DAA-GPI     8327.619048\n",
      "DAA-GM6     7990.571429\n",
      "DBA-GK3     7403.000000\n",
      "DBA-CR1     6956.521739\n",
      "125         1517.090909\n",
      "Name: repair_cost, dtype: float64\n"
     ]
    }
   ],
   "source": [
    "#get the average price of each model_code\n",
    "repair_cost_by_model_code = clean_df.groupby('model_code')['repair_cost'].mean().sort_values(ascending=False)\n",
    "print(repair_cost_by_model_code)"
   ]
  },
  {
   "cell_type": "code",
   "execution_count": 204,
   "id": "b40d426a",
   "metadata": {},
   "outputs": [
    {
     "data": {
      "image/png": "[encoded data removed]",
      "text/plain": [
       "<Figure size 1200x600 with 1 Axes>"
      ]
     },
     "metadata": {},
     "output_type": "display_data"
    }
   ],
   "source": [
    "#create a bar plot to visualize the average repair cost by model_code\n",
    "plt.figure(figsize=(12, 6))\n",
    "repair_cost_by_model_code.plot(kind='bar', color='skyblue')\n",
    "plt.title('Average Repair Cost by Model Code')\n",
    "plt.xlabel('Model Code')    \n",
    "plt.ylabel('Average Repair Cost (VAT Incl. 16%)')\n",
    "plt.xticks(rotation=45)\n",
    "plt.show()"
   ]
  },
  {
   "cell_type": "markdown",
   "id": "1c3687ac",
   "metadata": {},
   "source": [
    "**Interpretation**\n",
    "\n",
    "There is a clear variation in average repair costs across vehicle models, with DBA-RM4, DBA-RB1, and DAA-RU3 being the most expensive to repair—likely due to costlier parts, higher quantities, or more complex services while 125 and DBA-CR1 have the lowest average repair costs"
   ]
  },
  {
   "cell_type": "code",
   "execution_count": 205,
   "id": "2e8c555e",
   "metadata": {},
   "outputs": [
    {
     "data": {
      "image/png": "[encoded data removed]",
      "text/plain": [
       "<Figure size 1200x600 with 2 Axes>"
      ]
     },
     "metadata": {},
     "output_type": "display_data"
    }
   ],
   "source": [
    "# Average repair cost by model_code and category\n",
    "pivot_table = clean_df.pivot_table(values='repair_cost', index='model_code', columns='category', aggfunc='mean')\n",
    "plt.figure(figsize=(12, 6))\n",
    "sns.heatmap(pivot_table, annot=True, fmt=\".2f\", cmap='coolwarm', cbar_kws={'label': 'Average Repair Cost'})\n",
    "plt.title('Average Repair Cost by Model Code and Category')\n",
    "plt.xlabel('Model Code')\n",
    "plt.ylabel('Category')\n",
    "plt.show()\n"
   ]
  },
  {
   "cell_type": "markdown",
   "id": "b886c22a",
   "metadata": {},
   "source": [
    "The heatmap reveals that electrical and body repairs contribute significantly to high repair costs across most vehicle model codes. In contrast, consumables and accessories consistently incur the lowest costs, suggesting they have a minimal impact on total repair expenses"
   ]
  },
  {
   "cell_type": "markdown",
   "id": "bc697785",
   "metadata": {},
   "source": [
    "**Question 2**\n",
    "- Analyze the relationship between damage types and fix_type (repair vs.\n",
    "replace). Which damage types are more likely to lead to part replacement\n",
    "instead of repair?\n"
   ]
  },
  {
   "cell_type": "code",
   "execution_count": 206,
   "id": "d4d31a27",
   "metadata": {},
   "outputs": [
    {
     "data": {
      "text/plain": [
       "Index(['assessment_id', 'vehicle_model', 'model_code', 'category',\n",
       "       'part_or_service', 'service_provider_id', 'part_condition', 'part_type',\n",
       "       'quantity', 'fix_type', 'damage', 'estimated_repair_days',\n",
       "       'for_painting', 'paint_type', 'panels_to_paint',\n",
       "       'unit_price_(vat_incl._16%)', 'date', 'repair_cost'],\n",
       "      dtype='object')"
      ]
     },
     "execution_count": 206,
     "metadata": {},
     "output_type": "execute_result"
    }
   ],
   "source": [
    "clean_df.columns"
   ]
  },
  {
   "cell_type": "code",
   "execution_count": 207,
   "id": "93ef29c5",
   "metadata": {},
   "outputs": [
    {
     "data": {
      "application/vnd.microsoft.datawrangler.viewer.v0+json": {
       "columns": [
        {
         "name": "damage",
         "rawType": "object",
         "type": "string"
        },
        {
         "name": "-",
         "rawType": "int64",
         "type": "integer"
        },
        {
         "name": "repair",
         "rawType": "int64",
         "type": "integer"
        },
        {
         "name": "replace",
         "rawType": "int64",
         "type": "integer"
        }
       ],
       "ref": "8e04288e-9be8-419c-8cbc-827759be091a",
       "rows": [
        [
         "-",
         "141",
         "0",
         "0"
        ],
        [
         "Bent",
         "0",
         "36",
         "0"
        ],
        [
         "Broken",
         "0",
         "54",
         "0"
        ],
        [
         "Buckled",
         "0",
         "6",
         "0"
        ],
        [
         "Cracked",
         "0",
         "6",
         "1"
        ],
        [
         "Crushed",
         "0",
         "18",
         "0"
        ],
        [
         "Dented",
         "0",
         "15",
         "37"
        ],
        [
         "Deployed",
         "0",
         "7",
         "0"
        ],
        [
         "Leaking",
         "0",
         "9",
         "1"
        ],
        [
         "Malfunctioned",
         "0",
         "5",
         "0"
        ],
        [
         "Missing",
         "0",
         "11",
         "0"
        ],
        [
         "Ripped off",
         "0",
         "6",
         "0"
        ],
        [
         "Scratched",
         "0",
         "0",
         "41"
        ],
        [
         "Smashed",
         "0",
         "4",
         "0"
        ],
        [
         "Torn",
         "0",
         "37",
         "0"
        ]
       ],
       "shape": {
        "columns": 3,
        "rows": 15
       }
      },
      "text/html": [
       "<div>\n",
       "<style scoped>\n",
       "    .dataframe tbody tr th:only-of-type {\n",
       "        vertical-align: middle;\n",
       "    }\n",
       "\n",
       "    .dataframe tbody tr th {\n",
       "        vertical-align: top;\n",
       "    }\n",
       "\n",
       "    .dataframe thead th {\n",
       "        text-align: right;\n",
       "    }\n",
       "</style>\n",
       "<table border=\"1\" class=\"dataframe\">\n",
       "  <thead>\n",
       "    <tr style=\"text-align: right;\">\n",
       "      <th>fix_type</th>\n",
       "      <th>-</th>\n",
       "      <th>repair</th>\n",
       "      <th>replace</th>\n",
       "    </tr>\n",
       "    <tr>\n",
       "      <th>damage</th>\n",
       "      <th></th>\n",
       "      <th></th>\n",
       "      <th></th>\n",
       "    </tr>\n",
       "  </thead>\n",
       "  <tbody>\n",
       "    <tr>\n",
       "      <th>-</th>\n",
       "      <td>141</td>\n",
       "      <td>0</td>\n",
       "      <td>0</td>\n",
       "    </tr>\n",
       "    <tr>\n",
       "      <th>Bent</th>\n",
       "      <td>0</td>\n",
       "      <td>36</td>\n",
       "      <td>0</td>\n",
       "    </tr>\n",
       "    <tr>\n",
       "      <th>Broken</th>\n",
       "      <td>0</td>\n",
       "      <td>54</td>\n",
       "      <td>0</td>\n",
       "    </tr>\n",
       "    <tr>\n",
       "      <th>Buckled</th>\n",
       "      <td>0</td>\n",
       "      <td>6</td>\n",
       "      <td>0</td>\n",
       "    </tr>\n",
       "    <tr>\n",
       "      <th>Cracked</th>\n",
       "      <td>0</td>\n",
       "      <td>6</td>\n",
       "      <td>1</td>\n",
       "    </tr>\n",
       "    <tr>\n",
       "      <th>Crushed</th>\n",
       "      <td>0</td>\n",
       "      <td>18</td>\n",
       "      <td>0</td>\n",
       "    </tr>\n",
       "    <tr>\n",
       "      <th>Dented</th>\n",
       "      <td>0</td>\n",
       "      <td>15</td>\n",
       "      <td>37</td>\n",
       "    </tr>\n",
       "    <tr>\n",
       "      <th>Deployed</th>\n",
       "      <td>0</td>\n",
       "      <td>7</td>\n",
       "      <td>0</td>\n",
       "    </tr>\n",
       "    <tr>\n",
       "      <th>Leaking</th>\n",
       "      <td>0</td>\n",
       "      <td>9</td>\n",
       "      <td>1</td>\n",
       "    </tr>\n",
       "    <tr>\n",
       "      <th>Malfunctioned</th>\n",
       "      <td>0</td>\n",
       "      <td>5</td>\n",
       "      <td>0</td>\n",
       "    </tr>\n",
       "    <tr>\n",
       "      <th>Missing</th>\n",
       "      <td>0</td>\n",
       "      <td>11</td>\n",
       "      <td>0</td>\n",
       "    </tr>\n",
       "    <tr>\n",
       "      <th>Ripped off</th>\n",
       "      <td>0</td>\n",
       "      <td>6</td>\n",
       "      <td>0</td>\n",
       "    </tr>\n",
       "    <tr>\n",
       "      <th>Scratched</th>\n",
       "      <td>0</td>\n",
       "      <td>0</td>\n",
       "      <td>41</td>\n",
       "    </tr>\n",
       "    <tr>\n",
       "      <th>Smashed</th>\n",
       "      <td>0</td>\n",
       "      <td>4</td>\n",
       "      <td>0</td>\n",
       "    </tr>\n",
       "    <tr>\n",
       "      <th>Torn</th>\n",
       "      <td>0</td>\n",
       "      <td>37</td>\n",
       "      <td>0</td>\n",
       "    </tr>\n",
       "  </tbody>\n",
       "</table>\n",
       "</div>"
      ],
      "text/plain": [
       "fix_type         -  repair  replace\n",
       "damage                             \n",
       "-              141       0        0\n",
       "Bent             0      36        0\n",
       "Broken           0      54        0\n",
       "Buckled          0       6        0\n",
       "Cracked          0       6        1\n",
       "Crushed          0      18        0\n",
       "Dented           0      15       37\n",
       "Deployed         0       7        0\n",
       "Leaking          0       9        1\n",
       "Malfunctioned    0       5        0\n",
       "Missing          0      11        0\n",
       "Ripped off       0       6        0\n",
       "Scratched        0       0       41\n",
       "Smashed          0       4        0\n",
       "Torn             0      37        0"
      ]
     },
     "execution_count": 207,
     "metadata": {},
     "output_type": "execute_result"
    }
   ],
   "source": [
    "pd.crosstab(clean_df['damage'], clean_df['fix_type'])"
   ]
  },
  {
   "cell_type": "code",
   "execution_count": 208,
   "id": "a4098245",
   "metadata": {},
   "outputs": [
    {
     "data": {
      "image/png": "[encoded data removed]",
      "text/plain": [
       "<Figure size 1200x600 with 1 Axes>"
      ]
     },
     "metadata": {},
     "output_type": "display_data"
    }
   ],
   "source": [
    "pd.crosstab(clean_df['damage'], clean_df['fix_type'])\n",
    "# Create a bar plot to visualize the relationship between damage types and fix_type\n",
    "plt.figure(figsize=(12, 6))\n",
    "sns.countplot(data=clean_df, x='damage', hue='fix_type', palette='Set1')\n",
    "plt.title('Damage Types vs Fix Type (Repair vs Replace)')\n",
    "plt.xlabel('Damage Type')\n",
    "plt.ylabel('Count')\n",
    "plt.xticks(rotation=45)\n",
    "plt.legend(title='Fix Type')\n",
    "plt.show()"
   ]
  },
  {
   "cell_type": "markdown",
   "id": "1e7d1caf",
   "metadata": {},
   "source": [
    "- Severe or structural damage often leads to replacement with scratched having 100% replacement may be replaced more than expected, perhaps due to cost or policy preferences\n",
    "\n",
    "- Minor, cosmetic, or surface damage typically results in repairs.\n",
    "\n",
    "- Data quality (e.g.the green bar which indicates records for which the damage type was not provided) can mask true trends.\n",
    "\n"
   ]
  },
  {
   "cell_type": "markdown",
   "id": "2372d61d",
   "metadata": {},
   "source": [
    "**Question 3**\n",
    "- Evaluate the interaction between fix_type, parts, total repair cost,\n",
    "and services rendered\n"
   ]
  },
  {
   "cell_type": "code",
   "execution_count": 209,
   "id": "9652bb16",
   "metadata": {},
   "outputs": [
    {
     "name": "stdout",
     "output_type": "stream",
     "text": [
      "fix_type\n",
      "repair     17019.088224\n",
      "replace     5648.875000\n",
      "-           4901.339220\n",
      "Name: repair_cost, dtype: float64\n"
     ]
    },
    {
     "data": {
      "image/png": "[encoded data removed]",
      "text/plain": [
       "<Figure size 1200x600 with 1 Axes>"
      ]
     },
     "metadata": {},
     "output_type": "display_data"
    }
   ],
   "source": [
    "#checking repair cost by fix type\n",
    "repair_cost_by_fix_type = clean_df.groupby('fix_type')['repair_cost'].mean().sort_values(ascending=False)\n",
    "print(repair_cost_by_fix_type)\n",
    "# Create a bar plot to visualize the average repair cost by fix type\n",
    "plt.figure(figsize=(12, 6)) \n",
    "repair_cost_by_fix_type.plot(kind='bar', color='skyblue')\n",
    "plt.title('Average Repair Cost by Fix Type')\n",
    "plt.xlabel('Fix Type')\n",
    "plt.ylabel('Average Repair Cost (VAT Incl. 16%)')   \n",
    "plt.xticks(rotation=45)\n",
    "plt.show()"
   ]
  },
  {
   "cell_type": "markdown",
   "id": "129eacd3",
   "metadata": {},
   "source": [
    "There are many more repair entries, so the average might be inflated due to a few very expensive repairs.\n",
    "\n",
    "We don't yet know if each individual repair is truly more expensive than each replacement."
   ]
  },
  {
   "cell_type": "code",
   "execution_count": 210,
   "id": "e4233e1d",
   "metadata": {},
   "outputs": [
    {
     "data": {
      "application/vnd.microsoft.datawrangler.viewer.v0+json": {
       "columns": [
        {
         "name": "fix_type",
         "rawType": "object",
         "type": "string"
        },
        {
         "name": "repair_cost",
         "rawType": "float64",
         "type": "float"
        }
       ],
       "ref": "abc30902-0400-4a3b-a37f-8ae281585064",
       "rows": [
        [
         "-",
         "4000.0"
        ],
        [
         "repair",
         "8000.0"
        ],
        [
         "replace",
         "5500.0"
        ]
       ],
       "shape": {
        "columns": 1,
        "rows": 3
       }
      },
      "text/plain": [
       "fix_type\n",
       "-          4000.0\n",
       "repair     8000.0\n",
       "replace    5500.0\n",
       "Name: repair_cost, dtype: float64"
      ]
     },
     "execution_count": 210,
     "metadata": {},
     "output_type": "execute_result"
    }
   ],
   "source": [
    "clean_df.groupby('fix_type')['repair_cost'].median()\n"
   ]
  },
  {
   "cell_type": "markdown",
   "id": "08d9887a",
   "metadata": {},
   "source": [
    "Seeing that the median also follows the same trend for the fix_type, we can conclude that repairs are generally more expensive than replacements"
   ]
  },
  {
   "cell_type": "code",
   "execution_count": 211,
   "id": "05ff6e4c",
   "metadata": {},
   "outputs": [
    {
     "data": {
      "text/plain": [
       "Text(0.5, 1.0, 'Categories by Fix Type')"
      ]
     },
     "execution_count": 211,
     "metadata": {},
     "output_type": "execute_result"
    },
    {
     "data": {
      "image/png": "[encoded data removed]",
      "text/plain": [
       "<Figure size 1200x600 with 1 Axes>"
      ]
     },
     "metadata": {},
     "output_type": "display_data"
    }
   ],
   "source": [
    "categories_fix_type = clean_df.groupby(['category', 'fix_type']).size().unstack().fillna(0)\n",
    "categories_fix_type.sort_values('replace', ascending=False).plot(kind='bar', figsize=(12,6))\n",
    "plt.title('Categories by Fix Type')\n",
    "\n"
   ]
  },
  {
   "cell_type": "markdown",
   "id": "0cd3772a",
   "metadata": {},
   "source": [
    "For all  the different service/part categories, repair (orange bars) significantly outnumber replacement (green bars).\n"
   ]
  },
  {
   "cell_type": "code",
   "execution_count": 212,
   "id": "39938284",
   "metadata": {},
   "outputs": [
    {
     "data": {
      "image/png": "[encoded data removed]",
      "text/plain": [
       "<Figure size 1200x600 with 2 Axes>"
      ]
     },
     "metadata": {},
     "output_type": "display_data"
    }
   ],
   "source": [
    "pivot2 = clean_df.pivot_table(index='category', columns='fix_type', values='repair_cost', aggfunc='mean')\n",
    "\n",
    "plt.figure(figsize=(12,6))\n",
    "sns.heatmap(pivot2, annot=True, fmt=\".0f\", cmap='Blues')\n",
    "plt.title('Average Repair Cost by Service Category and Fix Type')\n",
    "plt.show()"
   ]
  },
  {
   "cell_type": "code",
   "execution_count": 213,
   "id": "a0cd2296",
   "metadata": {},
   "outputs": [
    {
     "name": "stdout",
     "output_type": "stream",
     "text": [
      "fix_type                   -        repair      replace\n",
      "category                                               \n",
      "Electrical               NaN  20366.732593  6500.000000\n",
      "Body                     NaN  19440.737956  5651.428571\n",
      "Wheels                   NaN  11500.000000          NaN\n",
      "Accessories              NaN  10125.000000  5500.000000\n",
      "Interior                 NaN  10008.000000          NaN\n",
      "Engine & Chassis         NaN   8331.235294  4750.000000\n",
      "Consumables              NaN   3000.000000          NaN\n",
      "Services          4901.33922           NaN          NaN\n"
     ]
    }
   ],
   "source": [
    "print(pivot2.sort_values('repair', ascending=False))"
   ]
  },
  {
   "cell_type": "markdown",
   "id": "d78dfff2",
   "metadata": {},
   "source": [
    "Repairs are consistently more expensive than replacements within the same category with the electrical category been the most expensive and onsumables the least expensive"
   ]
  },
  {
   "cell_type": "markdown",
   "id": "c538c632",
   "metadata": {},
   "source": [
    "## General Conclusions\n",
    "- Repair costs vary by model — Models like DBA-RM4 and DAA-RU3 are the most expensive to repair.\n",
    "\n",
    "- Repairs are costlier than replacements — Especially in electrical and body service categories.\n",
    "\n",
    "- Service category matters — Electrical and bodywork drive high repair costs; consumables and accessories are the cheapest.\n",
    "\n",
    "- Some parts are mostly repaired, not replaced — e.g., interior, consumables."
   ]
  },
  {
   "cell_type": "markdown",
   "id": "308fee78",
   "metadata": {},
   "source": [
    "## General recommendations\n",
    "- Consider replacing over repairing for high-cost services to save time and labor.\n",
    "\n",
    "- Improve diagnostics to avoid unnecessary, expensive repairs.\n",
    "\n",
    "- Develop cost guidelines for high-cost models to standardize decisions.\n",
    "\n",
    "- Fix missing fix_type entries to enhance future data analysis."
   ]
  }
 ],
 "metadata": {
  "kernelspec": {
   "display_name": "Python 3",
   "language": "python",
   "name": "python3"
  },
  "language_info": {
   "codemirror_mode": {
    "name": "ipython",
    "version": 3
   },
   "file_extension": ".py",
   "mimetype": "text/x-python",
   "name": "python",
   "nbconvert_exporter": "python",
   "pygments_lexer": "ipython3",
   "version": "3.12.0"
  }
 },
 "nbformat": 4,
 "nbformat_minor": 5
}
