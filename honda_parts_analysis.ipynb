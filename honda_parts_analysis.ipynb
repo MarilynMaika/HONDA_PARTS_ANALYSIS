{
 "cells": [
  {
   "cell_type": "code",
   "execution_count": 2,
   "id": "12c10553",
   "metadata": {},
   "outputs": [],
   "source": [
    "import pandas as pd\n",
    "import matplotlib.pyplot as plt\n",
    "import numpy as np"
   ]
  },
  {
   "cell_type": "markdown",
   "id": "4be02fc3",
   "metadata": {},
   "source": [
    "- Importing the data"
   ]
  },
  {
   "cell_type": "code",
   "execution_count": 3,
   "id": "c8a5e761",
   "metadata": {},
   "outputs": [
    {
     "data": {
      "application/vnd.microsoft.datawrangler.viewer.v0+json": {
       "columns": [
        {
         "name": "index",
         "rawType": "int64",
         "type": "integer"
        },
        {
         "name": "assessment_id",
         "rawType": "int64",
         "type": "integer"
        },
        {
         "name": "vehicle_make",
         "rawType": "int64",
         "type": "integer"
        },
        {
         "name": "vehicle make",
         "rawType": "object",
         "type": "string"
        },
        {
         "name": "vehicle_model",
         "rawType": "int64",
         "type": "integer"
        },
        {
         "name": "vehicle model",
         "rawType": "object",
         "type": "string"
        },
        {
         "name": "model_code",
         "rawType": "int64",
         "type": "integer"
        },
        {
         "name": "model code",
         "rawType": "object",
         "type": "string"
        },
        {
         "name": "part/service",
         "rawType": "int64",
         "type": "integer"
        },
        {
         "name": "category_id",
         "rawType": "int64",
         "type": "integer"
        },
        {
         "name": "category",
         "rawType": "object",
         "type": "string"
        },
        {
         "name": "part or service",
         "rawType": "object",
         "type": "string"
        },
        {
         "name": "service_provider",
         "rawType": "float64",
         "type": "float"
        },
        {
         "name": "part_condition",
         "rawType": "int64",
         "type": "integer"
        },
        {
         "name": "part condition",
         "rawType": "object",
         "type": "string"
        },
        {
         "name": "part_type",
         "rawType": "object",
         "type": "string"
        },
        {
         "name": "part type",
         "rawType": "object",
         "type": "string"
        },
        {
         "name": "quantity",
         "rawType": "int64",
         "type": "integer"
        },
        {
         "name": "fix_type",
         "rawType": "object",
         "type": "string"
        },
        {
         "name": "fix type",
         "rawType": "object",
         "type": "string"
        },
        {
         "name": "damage_id",
         "rawType": "object",
         "type": "string"
        },
        {
         "name": "damage",
         "rawType": "object",
         "type": "string"
        },
        {
         "name": "estimated_repair_days",
         "rawType": "int64",
         "type": "integer"
        },
        {
         "name": "for_painting",
         "rawType": "object",
         "type": "string"
        },
        {
         "name": "paint_type",
         "rawType": "object",
         "type": "string"
        },
        {
         "name": "paint type",
         "rawType": "object",
         "type": "string"
        },
        {
         "name": "panels_to_paint",
         "rawType": "float64",
         "type": "float"
        },
        {
         "name": "unit_price (vat incl. 16%)",
         "rawType": "float64",
         "type": "float"
        },
        {
         "name": "date",
         "rawType": "object",
         "type": "string"
        }
       ],
       "ref": "c1c68297-070e-4c3d-b77e-99d53daf6d74",
       "rows": [
        [
         "0",
         "56",
         "24",
         "Honda",
         "246",
         "CR-V",
         "5346",
         "DBA-RM4",
         "1683",
         "1",
         "Body",
         "Boot Catch Panel",
         "44.0",
         "2",
         "-",
         "-",
         "-",
         "1",
         "1",
         "replace",
         "1",
         "Scratched",
         "4",
         "no",
         "-",
         "-",
         null,
         null,
         "10/23/2023 8:36"
        ],
        [
         "1",
         "56",
         "24",
         "Honda",
         "246",
         "CR-V",
         "5346",
         "DBA-RM4",
         "1311",
         "1",
         "Body",
         "LHR Wheel Arch Moulding",
         "44.0",
         "1",
         "used",
         "1",
         "Dealer/OEM",
         "1",
         "0",
         "repair",
         "11",
         "Broken",
         "4",
         "no",
         "-",
         "-",
         null,
         "9280.0",
         "10/23/2023 8:36"
        ],
        [
         "2",
         "56",
         "24",
         "Honda",
         "246",
         "CR-V",
         "5346",
         "DBA-RM4",
         "48",
         "1",
         "Body",
         "LHS Rear Wing",
         "44.0",
         "2",
         "-",
         "-",
         "-",
         "1",
         "1",
         "replace",
         "1",
         "Scratched",
         "4",
         "yes",
         "1",
         "Metallic",
         "4.0",
         null,
         "10/23/2023 8:36"
        ],
        [
         "3",
         "56",
         "24",
         "Honda",
         "246",
         "CR-V",
         "5346",
         "DBA-RM4",
         "99",
         "1",
         "Body",
         "Tailgate Assembly",
         "81.0",
         "1",
         "used",
         "1",
         "Dealer/OEM",
         "1",
         "0",
         "repair",
         "4",
         "Buckled",
         "4",
         "yes",
         "1",
         "Metallic",
         "4.0",
         "139200.0",
         "10/23/2023 8:36"
        ],
        [
         "4",
         "56",
         "24",
         "Honda",
         "246",
         "CR-V",
         "5346",
         "DBA-RM4",
         "1151",
         "1",
         "Body",
         "Tailgate Shocks",
         "44.0",
         "1",
         "used",
         "1",
         "Dealer/OEM",
         "1",
         "0",
         "repair",
         "9",
         "Bent",
         "4",
         "no",
         "-",
         "-",
         null,
         "5800.0",
         "10/23/2023 8:36"
        ]
       ],
       "shape": {
        "columns": 28,
        "rows": 5
       }
      },
      "text/html": [
       "<div>\n",
       "<style scoped>\n",
       "    .dataframe tbody tr th:only-of-type {\n",
       "        vertical-align: middle;\n",
       "    }\n",
       "\n",
       "    .dataframe tbody tr th {\n",
       "        vertical-align: top;\n",
       "    }\n",
       "\n",
       "    .dataframe thead th {\n",
       "        text-align: right;\n",
       "    }\n",
       "</style>\n",
       "<table border=\"1\" class=\"dataframe\">\n",
       "  <thead>\n",
       "    <tr style=\"text-align: right;\">\n",
       "      <th></th>\n",
       "      <th>assessment_id</th>\n",
       "      <th>vehicle_make</th>\n",
       "      <th>vehicle make</th>\n",
       "      <th>vehicle_model</th>\n",
       "      <th>vehicle model</th>\n",
       "      <th>model_code</th>\n",
       "      <th>model code</th>\n",
       "      <th>part/service</th>\n",
       "      <th>category_id</th>\n",
       "      <th>category</th>\n",
       "      <th>...</th>\n",
       "      <th>fix type</th>\n",
       "      <th>damage_id</th>\n",
       "      <th>damage</th>\n",
       "      <th>estimated_repair_days</th>\n",
       "      <th>for_painting</th>\n",
       "      <th>paint_type</th>\n",
       "      <th>paint type</th>\n",
       "      <th>panels_to_paint</th>\n",
       "      <th>unit_price (vat incl. 16%)</th>\n",
       "      <th>date</th>\n",
       "    </tr>\n",
       "  </thead>\n",
       "  <tbody>\n",
       "    <tr>\n",
       "      <th>0</th>\n",
       "      <td>56</td>\n",
       "      <td>24</td>\n",
       "      <td>Honda</td>\n",
       "      <td>246</td>\n",
       "      <td>CR-V</td>\n",
       "      <td>5346</td>\n",
       "      <td>DBA-RM4</td>\n",
       "      <td>1683</td>\n",
       "      <td>1</td>\n",
       "      <td>Body</td>\n",
       "      <td>...</td>\n",
       "      <td>replace</td>\n",
       "      <td>1</td>\n",
       "      <td>Scratched</td>\n",
       "      <td>4</td>\n",
       "      <td>no</td>\n",
       "      <td>-</td>\n",
       "      <td>-</td>\n",
       "      <td>NaN</td>\n",
       "      <td>NaN</td>\n",
       "      <td>10/23/2023 8:36</td>\n",
       "    </tr>\n",
       "    <tr>\n",
       "      <th>1</th>\n",
       "      <td>56</td>\n",
       "      <td>24</td>\n",
       "      <td>Honda</td>\n",
       "      <td>246</td>\n",
       "      <td>CR-V</td>\n",
       "      <td>5346</td>\n",
       "      <td>DBA-RM4</td>\n",
       "      <td>1311</td>\n",
       "      <td>1</td>\n",
       "      <td>Body</td>\n",
       "      <td>...</td>\n",
       "      <td>repair</td>\n",
       "      <td>11</td>\n",
       "      <td>Broken</td>\n",
       "      <td>4</td>\n",
       "      <td>no</td>\n",
       "      <td>-</td>\n",
       "      <td>-</td>\n",
       "      <td>NaN</td>\n",
       "      <td>9280.0</td>\n",
       "      <td>10/23/2023 8:36</td>\n",
       "    </tr>\n",
       "    <tr>\n",
       "      <th>2</th>\n",
       "      <td>56</td>\n",
       "      <td>24</td>\n",
       "      <td>Honda</td>\n",
       "      <td>246</td>\n",
       "      <td>CR-V</td>\n",
       "      <td>5346</td>\n",
       "      <td>DBA-RM4</td>\n",
       "      <td>48</td>\n",
       "      <td>1</td>\n",
       "      <td>Body</td>\n",
       "      <td>...</td>\n",
       "      <td>replace</td>\n",
       "      <td>1</td>\n",
       "      <td>Scratched</td>\n",
       "      <td>4</td>\n",
       "      <td>yes</td>\n",
       "      <td>1</td>\n",
       "      <td>Metallic</td>\n",
       "      <td>4.0</td>\n",
       "      <td>NaN</td>\n",
       "      <td>10/23/2023 8:36</td>\n",
       "    </tr>\n",
       "    <tr>\n",
       "      <th>3</th>\n",
       "      <td>56</td>\n",
       "      <td>24</td>\n",
       "      <td>Honda</td>\n",
       "      <td>246</td>\n",
       "      <td>CR-V</td>\n",
       "      <td>5346</td>\n",
       "      <td>DBA-RM4</td>\n",
       "      <td>99</td>\n",
       "      <td>1</td>\n",
       "      <td>Body</td>\n",
       "      <td>...</td>\n",
       "      <td>repair</td>\n",
       "      <td>4</td>\n",
       "      <td>Buckled</td>\n",
       "      <td>4</td>\n",
       "      <td>yes</td>\n",
       "      <td>1</td>\n",
       "      <td>Metallic</td>\n",
       "      <td>4.0</td>\n",
       "      <td>139200.0</td>\n",
       "      <td>10/23/2023 8:36</td>\n",
       "    </tr>\n",
       "    <tr>\n",
       "      <th>4</th>\n",
       "      <td>56</td>\n",
       "      <td>24</td>\n",
       "      <td>Honda</td>\n",
       "      <td>246</td>\n",
       "      <td>CR-V</td>\n",
       "      <td>5346</td>\n",
       "      <td>DBA-RM4</td>\n",
       "      <td>1151</td>\n",
       "      <td>1</td>\n",
       "      <td>Body</td>\n",
       "      <td>...</td>\n",
       "      <td>repair</td>\n",
       "      <td>9</td>\n",
       "      <td>Bent</td>\n",
       "      <td>4</td>\n",
       "      <td>no</td>\n",
       "      <td>-</td>\n",
       "      <td>-</td>\n",
       "      <td>NaN</td>\n",
       "      <td>5800.0</td>\n",
       "      <td>10/23/2023 8:36</td>\n",
       "    </tr>\n",
       "  </tbody>\n",
       "</table>\n",
       "<p>5 rows × 28 columns</p>\n",
       "</div>"
      ],
      "text/plain": [
       "   assessment_id  vehicle_make vehicle make  vehicle_model vehicle model  \\\n",
       "0             56            24        Honda            246          CR-V   \n",
       "1             56            24        Honda            246          CR-V   \n",
       "2             56            24        Honda            246          CR-V   \n",
       "3             56            24        Honda            246          CR-V   \n",
       "4             56            24        Honda            246          CR-V   \n",
       "\n",
       "   model_code model code  part/service  category_id category  ... fix type  \\\n",
       "0        5346    DBA-RM4          1683            1     Body  ...  replace   \n",
       "1        5346    DBA-RM4          1311            1     Body  ...   repair   \n",
       "2        5346    DBA-RM4            48            1     Body  ...  replace   \n",
       "3        5346    DBA-RM4            99            1     Body  ...   repair   \n",
       "4        5346    DBA-RM4          1151            1     Body  ...   repair   \n",
       "\n",
       "   damage_id     damage estimated_repair_days for_painting paint_type  \\\n",
       "0          1  Scratched                     4           no          -   \n",
       "1         11     Broken                     4           no          -   \n",
       "2          1  Scratched                     4          yes          1   \n",
       "3          4    Buckled                     4          yes          1   \n",
       "4          9       Bent                     4           no          -   \n",
       "\n",
       "   paint type panels_to_paint unit_price (vat incl. 16%)             date  \n",
       "0           -             NaN                        NaN  10/23/2023 8:36  \n",
       "1           -             NaN                     9280.0  10/23/2023 8:36  \n",
       "2    Metallic             4.0                        NaN  10/23/2023 8:36  \n",
       "3    Metallic             4.0                   139200.0  10/23/2023 8:36  \n",
       "4           -             NaN                     5800.0  10/23/2023 8:36  \n",
       "\n",
       "[5 rows x 28 columns]"
      ]
     },
     "execution_count": 3,
     "metadata": {},
     "output_type": "execute_result"
    }
   ],
   "source": [
    "honda_parts= pd.read_csv('honda_parts_data.csv')\n",
    "# Display the first few rows of the dataset\n",
    "\n",
    "honda_parts.head()"
   ]
  },
  {
   "cell_type": "markdown",
   "id": "a2ade4d1",
   "metadata": {},
   "source": [
    "- Inspecting the data"
   ]
  },
  {
   "cell_type": "code",
   "execution_count": 4,
   "id": "8ade4a72",
   "metadata": {},
   "outputs": [
    {
     "name": "stdout",
     "output_type": "stream",
     "text": [
      "<class 'pandas.core.frame.DataFrame'>\n",
      "RangeIndex: 435 entries, 0 to 434\n",
      "Data columns (total 28 columns):\n",
      " #   Column                      Non-Null Count  Dtype  \n",
      "---  ------                      --------------  -----  \n",
      " 0   assessment_id               435 non-null    int64  \n",
      " 1   vehicle_make                435 non-null    int64  \n",
      " 2   vehicle make                435 non-null    object \n",
      " 3   vehicle_model               435 non-null    int64  \n",
      " 4   vehicle model               435 non-null    object \n",
      " 5   model_code                  435 non-null    int64  \n",
      " 6   model code                  435 non-null    object \n",
      " 7   part/service                435 non-null    int64  \n",
      " 8   category_id                 435 non-null    int64  \n",
      " 9   category                    435 non-null    object \n",
      " 10  part or service             435 non-null    object \n",
      " 11  service_provider            425 non-null    float64\n",
      " 12  part_condition              435 non-null    int64  \n",
      " 13  part condition              435 non-null    object \n",
      " 14  part_type                   435 non-null    object \n",
      " 15  part type                   435 non-null    object \n",
      " 16  quantity                    435 non-null    int64  \n",
      " 17  fix_type                    435 non-null    object \n",
      " 18  fix type                    435 non-null    object \n",
      " 19  damage_id                   435 non-null    object \n",
      " 20  damage                      435 non-null    object \n",
      " 21  estimated_repair_days       435 non-null    int64  \n",
      " 22  for_painting                435 non-null    object \n",
      " 23  paint_type                  435 non-null    object \n",
      " 24  paint type                  435 non-null    object \n",
      " 25  panels_to_paint             120 non-null    float64\n",
      " 26  unit_price (vat incl. 16%)  358 non-null    float64\n",
      " 27  date                        435 non-null    object \n",
      "dtypes: float64(3), int64(9), object(16)\n",
      "memory usage: 95.3+ KB\n"
     ]
    }
   ],
   "source": [
    "honda_parts.info()"
   ]
  },
  {
   "cell_type": "code",
   "execution_count": 6,
   "id": "8c3111dc",
   "metadata": {},
   "outputs": [
    {
     "data": {
      "text/plain": [
       "Index(['assessment_id', 'vehicle_make', 'vehicle make', 'vehicle_model',\n",
       "       'vehicle model', 'model_code', 'model code', 'part/service',\n",
       "       'category_id', 'category', 'part or service', 'service_provider',\n",
       "       'part_condition', 'part condition', 'part_type', 'part type',\n",
       "       'quantity', 'fix_type', 'fix type', 'damage_id', 'damage',\n",
       "       'estimated_repair_days', 'for_painting', 'paint_type', 'paint type',\n",
       "       'panels_to_paint', 'unit_price (vat incl. 16%)', 'date'],\n",
       "      dtype='object')"
      ]
     },
     "execution_count": 6,
     "metadata": {},
     "output_type": "execute_result"
    }
   ],
   "source": [
    "honda_parts.columns"
   ]
  },
  {
   "cell_type": "code",
   "execution_count": 5,
   "id": "1c667a4a",
   "metadata": {},
   "outputs": [
    {
     "data": {
      "application/vnd.microsoft.datawrangler.viewer.v0+json": {
       "columns": [
        {
         "name": "index",
         "rawType": "object",
         "type": "string"
        },
        {
         "name": "0",
         "rawType": "int64",
         "type": "integer"
        }
       ],
       "ref": "58f06373-b8e3-4e6c-9a8b-dea83146f0a2",
       "rows": [
        [
         "assessment_id",
         "0"
        ],
        [
         "vehicle_make",
         "0"
        ],
        [
         "vehicle make",
         "0"
        ],
        [
         "vehicle_model",
         "0"
        ],
        [
         "vehicle model",
         "0"
        ],
        [
         "model_code",
         "0"
        ],
        [
         "model code",
         "0"
        ],
        [
         "part/service",
         "0"
        ],
        [
         "category_id",
         "0"
        ],
        [
         "category",
         "0"
        ],
        [
         "part or service",
         "0"
        ],
        [
         "service_provider",
         "10"
        ],
        [
         "part_condition",
         "0"
        ],
        [
         "part condition",
         "0"
        ],
        [
         "part_type",
         "0"
        ],
        [
         "part type",
         "0"
        ],
        [
         "quantity",
         "0"
        ],
        [
         "fix_type",
         "0"
        ],
        [
         "fix type",
         "0"
        ],
        [
         "damage_id",
         "0"
        ],
        [
         "damage",
         "0"
        ],
        [
         "estimated_repair_days",
         "0"
        ],
        [
         "for_painting",
         "0"
        ],
        [
         "paint_type",
         "0"
        ],
        [
         "paint type",
         "0"
        ],
        [
         "panels_to_paint",
         "315"
        ],
        [
         "unit_price (vat incl. 16%)",
         "77"
        ],
        [
         "date",
         "0"
        ]
       ],
       "shape": {
        "columns": 1,
        "rows": 28
       }
      },
      "text/plain": [
       "assessment_id                   0\n",
       "vehicle_make                    0\n",
       "vehicle make                    0\n",
       "vehicle_model                   0\n",
       "vehicle model                   0\n",
       "model_code                      0\n",
       "model code                      0\n",
       "part/service                    0\n",
       "category_id                     0\n",
       "category                        0\n",
       "part or service                 0\n",
       "service_provider               10\n",
       "part_condition                  0\n",
       "part condition                  0\n",
       "part_type                       0\n",
       "part type                       0\n",
       "quantity                        0\n",
       "fix_type                        0\n",
       "fix type                        0\n",
       "damage_id                       0\n",
       "damage                          0\n",
       "estimated_repair_days           0\n",
       "for_painting                    0\n",
       "paint_type                      0\n",
       "paint type                      0\n",
       "panels_to_paint               315\n",
       "unit_price (vat incl. 16%)     77\n",
       "date                            0\n",
       "dtype: int64"
      ]
     },
     "execution_count": 5,
     "metadata": {},
     "output_type": "execute_result"
    }
   ],
   "source": [
    "honda_parts.isnull().sum()  "
   ]
  },
  {
   "cell_type": "code",
   "execution_count": null,
   "id": "f9788aed",
   "metadata": {},
   "outputs": [],
   "source": [
    "#drop the 'Unnamed: 0' column\n"
   ]
  }
 ],
 "metadata": {
  "kernelspec": {
   "display_name": "Python 3",
   "language": "python",
   "name": "python3"
  },
  "language_info": {
   "codemirror_mode": {
    "name": "ipython",
    "version": 3
   },
   "file_extension": ".py",
   "mimetype": "text/x-python",
   "name": "python",
   "nbconvert_exporter": "python",
   "pygments_lexer": "ipython3",
   "version": "3.12.0"
  }
 },
 "nbformat": 4,
 "nbformat_minor": 5
}
